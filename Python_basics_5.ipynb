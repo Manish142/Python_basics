{
  "nbformat": 4,
  "nbformat_minor": 0,
  "metadata": {
    "colab": {
      "name": "Python_basics_5.ipynb",
      "provenance": [],
      "authorship_tag": "ABX9TyMbc3mYcqOTvHg7IOYk003N",
      "include_colab_link": true
    },
    "kernelspec": {
      "name": "python3",
      "display_name": "Python 3"
    },
    "language_info": {
      "name": "python"
    }
  },
  "cells": [
    {
      "cell_type": "markdown",
      "metadata": {
        "id": "view-in-github",
        "colab_type": "text"
      },
      "source": [
        "<a href=\"https://colab.research.google.com/github/Manish142/Python_basics/blob/Edits/Python_basics_5.ipynb\" target=\"_parent\"><img src=\"https://colab.research.google.com/assets/colab-badge.svg\" alt=\"Open In Colab\"/></a>"
      ]
    },
    {
      "cell_type": "markdown",
      "source": [
        "# Class and Objects"
      ],
      "metadata": {
        "id": "76fk3RRVevSc"
      }
    },
    {
      "cell_type": "markdown",
      "source": [
        "The present notebook give insights to the class and object creation using Python. "
      ],
      "metadata": {
        "id": "HYxxPXyjIjVb"
      }
    },
    {
      "cell_type": "markdown",
      "source": [
        "The following code illustrates the class 'Student',  "
      ],
      "metadata": {
        "id": "-_tPmpNknt-s"
      }
    },
    {
      "cell_type": "code",
      "execution_count": 52,
      "metadata": {
        "id": "o-L8LCgIIY1c"
      },
      "outputs": [],
      "source": [
        "class Student:                # Class name should start with capital letter.\n",
        "    def __init__(self, name, roll_number,semester, course, department):       \n",
        "        self.name = name\n",
        "        self.roll_number = roll_number\n",
        "        self.semester = semester\n",
        "        self.course = course\n",
        "        self.department = department\n",
        "    def upgrade(self, semester):     \n",
        "        self.semester += 1        \n",
        "    def student_detail(self):\n",
        "        print(f\" Name of the student: {self.name} | Roll no. of student : {self.roll_number}\")\n",
        "    def __str__(self):\n",
        "        return f\"{self.name} | Selling Price: ₹{self.roll_number}\""
      ]
    },
    {
      "cell_type": "markdown",
      "source": [
        "Creating the object **Student_1**, which is instance of the class **Student**."
      ],
      "metadata": {
        "id": "un3jhxUIraUZ"
      }
    },
    {
      "cell_type": "code",
      "source": [
        "Student_1 = Student('Ramesh Kumar',14,1,'M.Tech.', 'AI')"
      ],
      "metadata": {
        "id": "pP8S74veJI_f"
      },
      "execution_count": 55,
      "outputs": []
    },
    {
      "cell_type": "code",
      "source": [
        "Student_1.name"
      ],
      "metadata": {
        "colab": {
          "base_uri": "https://localhost:8080/",
          "height": 35
        },
        "id": "oZl90RULaNHM",
        "outputId": "aa094e99-fdc6-410b-aadb-c3a49efd0463"
      },
      "execution_count": 56,
      "outputs": [
        {
          "output_type": "execute_result",
          "data": {
            "text/plain": [
              "'Ramesh Kumar'"
            ],
            "application/vnd.google.colaboratory.intrinsic+json": {
              "type": "string"
            }
          },
          "metadata": {},
          "execution_count": 56
        }
      ]
    },
    {
      "cell_type": "code",
      "source": [
        "Student_1.course"
      ],
      "metadata": {
        "colab": {
          "base_uri": "https://localhost:8080/",
          "height": 35
        },
        "id": "1gl5LiJ9JjHV",
        "outputId": "cb1a2aa1-eaef-475e-e7fd-f23440075d24"
      },
      "execution_count": 57,
      "outputs": [
        {
          "output_type": "execute_result",
          "data": {
            "text/plain": [
              "'M.Tech.'"
            ],
            "application/vnd.google.colaboratory.intrinsic+json": {
              "type": "string"
            }
          },
          "metadata": {},
          "execution_count": 57
        }
      ]
    },
    {
      "cell_type": "code",
      "source": [
        "Student_1.upgrade(1)"
      ],
      "metadata": {
        "id": "t3L2UWlrJtt1"
      },
      "execution_count": 58,
      "outputs": []
    },
    {
      "cell_type": "code",
      "source": [
        "Student_1.semester"
      ],
      "metadata": {
        "colab": {
          "base_uri": "https://localhost:8080/"
        },
        "id": "3kBaCnXgJ6ll",
        "outputId": "e5392d1f-cc60-4ea0-bf9d-9abcede9bdd5"
      },
      "execution_count": 59,
      "outputs": [
        {
          "output_type": "execute_result",
          "data": {
            "text/plain": [
              "2"
            ]
          },
          "metadata": {},
          "execution_count": 59
        }
      ]
    },
    {
      "cell_type": "code",
      "source": [
        "Student_1.student_detail()"
      ],
      "metadata": {
        "colab": {
          "base_uri": "https://localhost:8080/"
        },
        "id": "zFNpkdr7dlYM",
        "outputId": "acb8b33b-ab44-46c1-9447-1b34a6975043"
      },
      "execution_count": 50,
      "outputs": [
        {
          "output_type": "stream",
          "name": "stdout",
          "text": [
            " Name of the student: Manish | Roll no. of student : 14\n"
          ]
        }
      ]
    },
    {
      "cell_type": "code",
      "source": [
        "print(Student_1)"
      ],
      "metadata": {
        "colab": {
          "base_uri": "https://localhost:8080/"
        },
        "id": "gGp8Dp_bd_51",
        "outputId": "206083ee-c46f-4535-c9ff-954ee50f91a8"
      },
      "execution_count": 51,
      "outputs": [
        {
          "output_type": "stream",
          "name": "stdout",
          "text": [
            "Manish | Selling Price: ₹14\n"
          ]
        }
      ]
    }
  ]
}