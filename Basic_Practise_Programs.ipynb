{
 "cells": [
  {
   "cell_type": "code",
   "execution_count": 15,
   "id": "d5dd3b2b",
   "metadata": {},
   "outputs": [],
   "source": [
    "list1 = [1,2,3,15,4]"
   ]
  },
  {
   "cell_type": "code",
   "execution_count": 16,
   "id": "d29d8455",
   "metadata": {},
   "outputs": [],
   "source": [
    "list1.sort()"
   ]
  },
  {
   "cell_type": "code",
   "execution_count": 18,
   "id": "2f790513",
   "metadata": {},
   "outputs": [
    {
     "data": {
      "text/plain": [
       "[1, 2, 3, 4, 15]"
      ]
     },
     "execution_count": 18,
     "metadata": {},
     "output_type": "execute_result"
    }
   ],
   "source": [
    "list1"
   ]
  },
  {
   "cell_type": "markdown",
   "id": "e926c665",
   "metadata": {},
   "source": [
    "Finding the maximum number out of list"
   ]
  },
  {
   "cell_type": "code",
   "execution_count": 19,
   "id": "175e37ac",
   "metadata": {},
   "outputs": [
    {
     "data": {
      "text/plain": [
       "15"
      ]
     },
     "execution_count": 19,
     "metadata": {},
     "output_type": "execute_result"
    }
   ],
   "source": [
    "list1[-1]"
   ]
  },
  {
   "cell_type": "markdown",
   "id": "3e0fb18c",
   "metadata": {},
   "source": [
    "Finding the minimum number out of list"
   ]
  },
  {
   "cell_type": "code",
   "execution_count": 22,
   "id": "f99fb5c9",
   "metadata": {},
   "outputs": [
    {
     "data": {
      "text/plain": [
       "1"
      ]
     },
     "execution_count": 22,
     "metadata": {},
     "output_type": "execute_result"
    }
   ],
   "source": [
    "list1[0]"
   ]
  },
  {
   "cell_type": "markdown",
   "id": "5985c67c",
   "metadata": {},
   "source": [
    "Finding the second largest number"
   ]
  },
  {
   "cell_type": "code",
   "execution_count": 23,
   "id": "24912d5e",
   "metadata": {},
   "outputs": [
    {
     "data": {
      "text/plain": [
       "4"
      ]
     },
     "execution_count": 23,
     "metadata": {},
     "output_type": "execute_result"
    }
   ],
   "source": [
    "list1[-2]"
   ]
  },
  {
   "cell_type": "markdown",
   "id": "4f30d6b0",
   "metadata": {},
   "source": [
    "Finding the second minimum number out of list"
   ]
  },
  {
   "cell_type": "code",
   "execution_count": 24,
   "id": "f406d17b",
   "metadata": {},
   "outputs": [
    {
     "data": {
      "text/plain": [
       "2"
      ]
     },
     "execution_count": 24,
     "metadata": {},
     "output_type": "execute_result"
    }
   ],
   "source": [
    "list[1]"
   ]
  },
  {
   "cell_type": "code",
   "execution_count": 20,
   "id": "d7414cbe",
   "metadata": {},
   "outputs": [],
   "source": [
    "list = [12,11,15,9,10,13,18,27,37]"
   ]
  },
  {
   "cell_type": "code",
   "execution_count": 26,
   "id": "94148bec",
   "metadata": {},
   "outputs": [],
   "source": [
    "a = list[0]\n",
    "b = list[1]"
   ]
  },
  {
   "cell_type": "markdown",
   "id": "78cb9b0b",
   "metadata": {},
   "source": [
    "# Finding the largest number"
   ]
  },
  {
   "cell_type": "code",
   "execution_count": 35,
   "id": "dac161dd",
   "metadata": {},
   "outputs": [
    {
     "name": "stdout",
     "output_type": "stream",
     "text": [
      "15\n"
     ]
    }
   ],
   "source": [
    "largest = 0\n",
    "for i in range(len(list)):\n",
    "    if largest < list[i]:\n",
    "        largest = list[i]\n",
    "print(largest)"
   ]
  },
  {
   "cell_type": "markdown",
   "id": "f424f206",
   "metadata": {},
   "source": [
    "# Finding the second largest number"
   ]
  },
  {
   "cell_type": "code",
   "execution_count": 53,
   "id": "698c9996",
   "metadata": {},
   "outputs": [
    {
     "name": "stdout",
     "output_type": "stream",
     "text": [
      "37\n",
      "27\n"
     ]
    }
   ],
   "source": [
    "a = list[0]\n",
    "b = list[1] \n",
    "if a>b:\n",
    "        largest = a\n",
    "        second_largest = b\n",
    "else: \n",
    "        largest = b\n",
    "        second_largest = a \n",
    "for i in range(2,len(list)):              \n",
    "    if largest < list[i]:\n",
    "        second_largest = largest\n",
    "        largest = list[i]\n",
    "    elif second_largest < list[i]:\n",
    "        second_largest = list[i]\n",
    "        \n",
    "print(largest)\n",
    "print(second_largest)"
   ]
  },
  {
   "cell_type": "markdown",
   "id": "9731e7d3",
   "metadata": {},
   "source": [
    "# Finding the smallest number"
   ]
  },
  {
   "cell_type": "code",
   "execution_count": 36,
   "id": "61a11ff8",
   "metadata": {},
   "outputs": [],
   "source": [
    "list = [14,12,16,13,20,25,55,10,9]"
   ]
  },
  {
   "cell_type": "code",
   "execution_count": 22,
   "id": "c5995660",
   "metadata": {},
   "outputs": [
    {
     "name": "stdout",
     "output_type": "stream",
     "text": [
      "12\n"
     ]
    }
   ],
   "source": [
    "a = list[0]\n",
    "for i in range(1,len(list)):\n",
    "    if a > list[i]:\n",
    "        a = list[i]  \n",
    "print(a)"
   ]
  },
  {
   "cell_type": "markdown",
   "id": "b6fbf3eb",
   "metadata": {},
   "source": [
    "# Finding the second smallest element "
   ]
  },
  {
   "cell_type": "code",
   "execution_count": 37,
   "id": "86e0df3c",
   "metadata": {},
   "outputs": [
    {
     "name": "stdout",
     "output_type": "stream",
     "text": [
      "10\n",
      "9\n"
     ]
    }
   ],
   "source": [
    "a = list[0]\n",
    "b = list[1]\n",
    "if a < b:\n",
    "    smallest = a \n",
    "    second_smallest = b \n",
    "else: \n",
    "    smallest = b\n",
    "    second_smallest = a\n",
    "    \n",
    "for i in range(2,len(list)):\n",
    "    if smallest > list[i]:\n",
    "        second_smallest = smallest\n",
    "        smallest = list[i]\n",
    "       \n",
    "    elif second_smallest > list[i]:\n",
    "        second_smallest = list[i]\n",
    "        \n",
    "print(second_smallest)\n",
    "print(smallest)\n",
    "    "
   ]
  },
  {
   "cell_type": "code",
   "execution_count": 14,
   "id": "837844b3",
   "metadata": {},
   "outputs": [
    {
     "name": "stdout",
     "output_type": "stream",
     "text": [
      "[4, 7, 8, 0, 4, 4, 2, 9, 8, 8, 4]\n"
     ]
    }
   ],
   "source": [
    "list = [4, 7, 8, 0, 8, 4, 2, 9, 4, 8, 4]\n",
    "pos1 = 4\n",
    "pos2 = 8\n",
    "temp1 = list[pos1]\n",
    "temp2 = list[pos2]\n",
    "list[pos1] = temp2\n",
    "list[pos2] = temp1\n",
    "print(list)"
   ]
  },
  {
   "cell_type": "markdown",
   "id": "1669e947",
   "metadata": {},
   "source": [
    "## Python Program for Factorial"
   ]
  },
  {
   "cell_type": "code",
   "execution_count": 125,
   "id": "29be7f8b",
   "metadata": {},
   "outputs": [],
   "source": [
    "def factorial(n): \n",
    "    if n > 0:\n",
    "        fact = 1 \n",
    "        while n > 0:\n",
    "                fact *= n \n",
    "                n = n-1\n",
    "        return fact\n",
    "    else:\n",
    "       print('Please enter the positive number.')\n"
   ]
  },
  {
   "cell_type": "code",
   "execution_count": 126,
   "id": "8de52680",
   "metadata": {},
   "outputs": [
    {
     "name": "stdout",
     "output_type": "stream",
     "text": [
      "Please enter the positive number.\n"
     ]
    }
   ],
   "source": [
    "factorial(0)"
   ]
  },
  {
   "cell_type": "code",
   "execution_count": 128,
   "id": "51fada85",
   "metadata": {},
   "outputs": [
    {
     "data": {
      "text/plain": [
       "3628800"
      ]
     },
     "execution_count": 128,
     "metadata": {},
     "output_type": "execute_result"
    }
   ],
   "source": [
    "factorial(10)"
   ]
  },
  {
   "cell_type": "code",
   "execution_count": 129,
   "id": "f8260221",
   "metadata": {},
   "outputs": [
    {
     "data": {
      "text/plain": [
       "120"
      ]
     },
     "execution_count": 129,
     "metadata": {},
     "output_type": "execute_result"
    }
   ],
   "source": [
    "factorial(5)"
   ]
  },
  {
   "cell_type": "markdown",
   "id": "d664a1d6",
   "metadata": {},
   "source": [
    "## Program for Fibonacci series for nth number"
   ]
  },
  {
   "cell_type": "code",
   "execution_count": 144,
   "id": "e1bacdc6",
   "metadata": {},
   "outputs": [],
   "source": [
    "def fibonacci(n):\n",
    "    f = [0,1]    \n",
    "    for n in range(2,n):\n",
    "        f.append(f[n-1]+f[n-2])\n",
    "    return f[n]    "
   ]
  },
  {
   "cell_type": "code",
   "execution_count": 146,
   "id": "50fd9256",
   "metadata": {},
   "outputs": [
    {
     "data": {
      "text/plain": [
       "34"
      ]
     },
     "execution_count": 146,
     "metadata": {},
     "output_type": "execute_result"
    }
   ],
   "source": [
    "fibonacci(10)"
   ]
  },
  {
   "cell_type": "code",
   "execution_count": null,
   "id": "45ef4986",
   "metadata": {},
   "outputs": [],
   "source": []
  }
 ],
 "metadata": {
  "kernelspec": {
   "display_name": "Python 3 (ipykernel)",
   "language": "python",
   "name": "python3"
  },
  "language_info": {
   "codemirror_mode": {
    "name": "ipython",
    "version": 3
   },
   "file_extension": ".py",
   "mimetype": "text/x-python",
   "name": "python",
   "nbconvert_exporter": "python",
   "pygments_lexer": "ipython3",
   "version": "3.8.12"
  }
 },
 "nbformat": 4,
 "nbformat_minor": 5
}
