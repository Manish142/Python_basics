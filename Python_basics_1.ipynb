{
  "cells": [
    {
      "cell_type": "markdown",
      "metadata": {
        "id": "view-in-github",
        "colab_type": "text"
      },
      "source": [
        "<a href=\"https://colab.research.google.com/github/Manish142/Python_basics/blob/main/Python_basics_1.ipynb\" target=\"_parent\"><img src=\"https://colab.research.google.com/assets/colab-badge.svg\" alt=\"Open In Colab\"/></a>"
      ]
    },
    {
      "cell_type": "markdown",
      "source": [
        "# Arthimatic operations"
      ],
      "metadata": {
        "id": "FQ7Q3mnCutQM"
      }
    },
    {
      "cell_type": "markdown",
      "source": [
        "The following code illustrates the basic mathematical operationals like addition, subtration and multiplication."
      ],
      "metadata": {
        "id": "s3ezakXZtnuS"
      }
    },
    {
      "cell_type": "code",
      "execution_count": null,
      "metadata": {
        "id": "DWSxmbIq_LTH"
      },
      "outputs": [],
      "source": [
        "a = 10;\n",
        "b = 3;\n",
        "c = a+b; # Sum of a and b\n",
        "d = a-b; # Subtraction of two numbers\n",
        "e = a*b  # Multiplication\n",
        "\n",
        "print('The addition of the numbers', a, 'and', b, 'is', c);\n",
        "print('The subtraction of the numbers', a, 'and', b, 'is', d);\n",
        "print('The multiplication of the numbers', a, 'and', b, 'is', e);"
      ]
    },
    {
      "cell_type": "markdown",
      "metadata": {
        "id": "r8SsDGSMHKl8"
      },
      "source": [
        "Similar to the above stated basic arithematic operations, we can also perform other arthimatic operations like: square, power of a number, division, remainder.\n"
      ]
    },
    {
      "cell_type": "code",
      "execution_count": null,
      "metadata": {
        "id": "lKo2cIBaH_5h"
      },
      "outputs": [],
      "source": [
        "k = a ** 2        \n",
        "g = a ** b       \n",
        "h = a/b          \n",
        "i = a // b\n",
        "j = a % b    # Modulus in Python\n",
        "print('The square of the numbers', a,'is', k);     \n",
        "print(a,\"raised to the power\", b ,'is', g);\n",
        "print(a, \"divided by \",b,'is', h);\n",
        "print('The floor division of',a,'and',b,'is',i)\n",
        "print('The remainder obtained after dividing',a,'by',b,'is',j)"
      ]
    },
    {
      "cell_type": "markdown",
      "metadata": {
        "id": "y1ujSdG4-Eyo"
      },
      "source": [
        "The exmaple below demonstrates the basics of the python Programming. Here we have calculated the Simple interest using basic formula.Through these simple examples one can learn the basics of Python Programming."
      ]
    },
    {
      "cell_type": "code",
      "execution_count": null,
      "metadata": {
        "id": "JliI5Dpp849k"
      },
      "outputs": [],
      "source": [
        "Rate = 10 \n",
        "Time = 0.5\n",
        "Principal = 5000\n",
        "Interest = (Rate *Time * Principal)/100"
      ]
    },
    {
      "cell_type": "markdown",
      "metadata": {
        "id": "oF33QBlI7VnU"
      },
      "source": [
        "**String **\n",
        "let us study string in the next few lines."
      ]
    },
    {
      "cell_type": "markdown",
      "source": [
        "String can be written by enclosing characters within single and double quotes. The next few lines illustrates this."
      ],
      "metadata": {
        "id": "aEWjP-OUwvnu"
      }
    },
    {
      "cell_type": "markdown",
      "metadata": {
        "id": "Tb1dx6yC8G83"
      },
      "source": [
        "String can be enclosed in single quote also. Like 'Python'."
      ]
    },
    {
      "cell_type": "code",
      "execution_count": null,
      "metadata": {
        "colab": {
          "base_uri": "https://localhost:8080/",
          "height": 35
        },
        "id": "Dc6Kh2sG8a8o",
        "outputId": "4188d650-bfa9-4cac-c4ae-e3a5278023cb"
      },
      "outputs": [
        {
          "output_type": "execute_result",
          "data": {
            "application/vnd.google.colaboratory.intrinsic+json": {
              "type": "string"
            },
            "text/plain": [
              "'Learning Python'"
            ]
          },
          "metadata": {},
          "execution_count": 8
        }
      ],
      "source": [
        "\"Learning Python\""
      ]
    },
    {
      "cell_type": "code",
      "source": [
        "'manish'"
      ],
      "metadata": {
        "colab": {
          "base_uri": "https://localhost:8080/",
          "height": 35
        },
        "id": "Y8hq6Jdn0npA",
        "outputId": "77020c25-458c-46af-b687-8e55e3e5f50a"
      },
      "execution_count": null,
      "outputs": [
        {
          "output_type": "execute_result",
          "data": {
            "application/vnd.google.colaboratory.intrinsic+json": {
              "type": "string"
            },
            "text/plain": [
              "'manish'"
            ]
          },
          "metadata": {},
          "execution_count": 9
        }
      ]
    },
    {
      "cell_type": "code",
      "execution_count": null,
      "metadata": {
        "id": "tj0SeemL0mT1"
      },
      "outputs": [],
      "source": [
        "Rate = 10 \n",
        "Time = 0.5\n",
        "Principal = 5000\n",
        "Interest = (Rate *Time * Principal)/100"
      ]
    },
    {
      "cell_type": "code",
      "source": [
        "print(Interest)"
      ],
      "metadata": {
        "colab": {
          "base_uri": "https://localhost:8080/"
        },
        "id": "12-L2KBD1yXL",
        "outputId": "f1d63c31-2f23-410f-9e51-5525d5ea8e77"
      },
      "execution_count": null,
      "outputs": [
        {
          "output_type": "stream",
          "name": "stdout",
          "text": [
            "250.0\n"
          ]
        }
      ]
    },
    {
      "cell_type": "markdown",
      "metadata": {
        "id": "UNihyC2nxz-a"
      },
      "source": [
        "String can be enclosed in double quote also. Like \"Manish\"."
      ]
    },
    {
      "cell_type": "code",
      "execution_count": null,
      "metadata": {
        "colab": {
          "base_uri": "https://localhost:8080/",
          "height": 35
        },
        "id": "FStwbGz47r2n",
        "outputId": "43bc9121-4b6c-4e9c-b963-bb37d1b119a5"
      },
      "outputs": [
        {
          "output_type": "execute_result",
          "data": {
            "application/vnd.google.colaboratory.intrinsic+json": {
              "type": "string"
            },
            "text/plain": [
              "'String can be written by enclosing characters within single and double quotes. \\nThe next few lines illustrates this.'"
            ]
          },
          "metadata": {},
          "execution_count": 12
        }
      ],
      "source": [
        "\"\"\"String can be written by enclosing characters within single and double quotes. \n",
        "The next few lines illustrates this.\"\"\""
      ]
    },
    {
      "cell_type": "markdown",
      "metadata": {
        "id": "UDnrPR_WzG1B"
      },
      "source": [
        "We can use backslash with character in string to perform different operations For example: \n",
        "1. '\\n' is used for writing in the new line.  "
      ]
    },
    {
      "cell_type": "code",
      "execution_count": null,
      "metadata": {
        "colab": {
          "base_uri": "https://localhost:8080/"
        },
        "id": "trJA1vLL-jRQ",
        "outputId": "fe261a34-ec41-4760-c9d6-88b1d3a3c39c"
      },
      "outputs": [
        {
          "output_type": "stream",
          "name": "stdout",
          "text": [
            "I am learning Python. \n",
            "It is very interesting.\n"
          ]
        }
      ],
      "source": [
        "print(\"I am learning Python. \\nIt is very interesting.\");"
      ]
    },
    {
      "cell_type": "markdown",
      "metadata": {
        "id": "oDMcjBH6_OZy"
      },
      "source": [
        "2. '\\t' is used to add white spaces in the string."
      ]
    },
    {
      "cell_type": "code",
      "execution_count": null,
      "metadata": {
        "colab": {
          "base_uri": "https://localhost:8080/"
        },
        "id": "cJSY7Ldp_7aR",
        "outputId": "28541a0f-a51c-4c32-f423-a8e069af4688"
      },
      "outputs": [
        {
          "output_type": "stream",
          "name": "stdout",
          "text": [
            "I am learning Python.\tIt is very interesting.\n"
          ]
        }
      ],
      "source": [
        "print('I am learning Python.\\tIt is very interesting.');\n"
      ]
    },
    {
      "cell_type": "markdown",
      "metadata": {
        "id": "DkvGyiD7B1DE"
      },
      "source": [
        "If you do not want special characters to be evaluated, then you can use r before first quote."
      ]
    },
    {
      "cell_type": "markdown",
      "metadata": {
        "id": "crBy5bSQPIgu"
      },
      "source": [
        "If we do not put r in front of the string."
      ]
    },
    {
      "cell_type": "code",
      "execution_count": null,
      "metadata": {
        "colab": {
          "base_uri": "https://localhost:8080/"
        },
        "id": "FZeZnsBgPPq3",
        "outputId": "8b0ec975-d3ea-40bc-9586-1e2761462552"
      },
      "outputs": [
        {
          "output_type": "stream",
          "name": "stdout",
          "text": [
            "C:User\time\n",
            "ame\n"
          ]
        }
      ],
      "source": [
        "print('C:User\\time\\name');"
      ]
    },
    {
      "cell_type": "code",
      "execution_count": null,
      "metadata": {
        "colab": {
          "base_uri": "https://localhost:8080/"
        },
        "id": "AFaLQwRwCVGA",
        "outputId": "f9667839-0c18-4369-b1e4-c4435064fc5f"
      },
      "outputs": [
        {
          "output_type": "stream",
          "name": "stdout",
          "text": [
            "C:User\\time\\name\n"
          ]
        }
      ],
      "source": [
        "print(r'C:User\\time\\name');"
      ]
    },
    {
      "cell_type": "markdown",
      "metadata": {
        "id": "-D9JLyH9PXAT"
      },
      "source": [
        "If there are multiple lines of string..."
      ]
    },
    {
      "cell_type": "code",
      "execution_count": null,
      "metadata": {
        "colab": {
          "base_uri": "https://localhost:8080/"
        },
        "id": "838xY4XgQYAz",
        "outputId": "fc7568eb-7cd9-4ea4-eb99-120698206ce4"
      },
      "outputs": [
        {
          "output_type": "stream",
          "name": "stdout",
          "text": [
            "It is easy to learn Python.\n",
            "Further, it is very useful programming language in present era.\n"
          ]
        }
      ],
      "source": [
        "print(\"\"\"It is easy to learn Python.\n",
        "Further, it is very useful programming language in present era.\"\"\");"
      ]
    },
    {
      "cell_type": "markdown",
      "metadata": {
        "id": "rf82n5geRa1X"
      },
      "source": [
        "Concatination of the string can be done by following ways:\n",
        "1. Placing the string laterals together.\n",
        "2. Putting the '+' sign in between the strings.\n",
        "3. Strings can be repeated by putting the sign '*'."
      ]
    },
    {
      "cell_type": "code",
      "execution_count": null,
      "metadata": {
        "colab": {
          "base_uri": "https://localhost:8080/"
        },
        "id": "Z65CRdg9Ru7w",
        "outputId": "6b2eb266-0b59-4629-89e8-d3e2ebe57834"
      },
      "outputs": [
        {
          "output_type": "stream",
          "name": "stdout",
          "text": [
            "Manish Kalra\n"
          ]
        }
      ],
      "source": [
        "print('Man''ish'' Kalra')"
      ]
    },
    {
      "cell_type": "code",
      "execution_count": null,
      "metadata": {
        "colab": {
          "base_uri": "https://localhost:8080/",
          "height": 35
        },
        "id": "Xu2sl1jRSXq0",
        "outputId": "74b8199c-ec97-4bdf-de45-c37e341d2be8"
      },
      "outputs": [
        {
          "output_type": "execute_result",
          "data": {
            "application/vnd.google.colaboratory.intrinsic+json": {
              "type": "string"
            },
            "text/plain": [
              "'Python'"
            ]
          },
          "metadata": {},
          "execution_count": 13
        }
      ],
      "source": [
        "'Py'+'thon'"
      ]
    },
    {
      "cell_type": "code",
      "execution_count": null,
      "metadata": {
        "colab": {
          "base_uri": "https://localhost:8080/",
          "height": 35
        },
        "id": "S3XMlUUNSpoJ",
        "outputId": "b41a70be-ffc2-45de-9bec-0b7cc1a4e95b"
      },
      "outputs": [
        {
          "output_type": "execute_result",
          "data": {
            "application/vnd.google.colaboratory.intrinsic+json": {
              "type": "string"
            },
            "text/plain": [
              "'PyPyPython'"
            ]
          },
          "metadata": {},
          "execution_count": 22
        }
      ],
      "source": [
        "3*'Py'+'thon'"
      ]
    },
    {
      "cell_type": "code",
      "execution_count": null,
      "metadata": {
        "colab": {
          "base_uri": "https://localhost:8080/",
          "height": 35
        },
        "id": "8kJ1dTq4S0Gj",
        "outputId": "be7019d3-b535-46bd-8d36-40c163429ce1"
      },
      "outputs": [
        {
          "output_type": "execute_result",
          "data": {
            "application/vnd.google.colaboratory.intrinsic+json": {
              "type": "string"
            },
            "text/plain": [
              "'PyPyPythonthon'"
            ]
          },
          "metadata": {},
          "execution_count": 23
        }
      ],
      "source": [
        "3*'Py'+ 2*'thon'"
      ]
    },
    {
      "cell_type": "markdown",
      "metadata": {
        "id": "-M7uiyO_TI3p"
      },
      "source": [
        "Strings can be indexed with the first character having place value zero. "
      ]
    },
    {
      "cell_type": "code",
      "execution_count": null,
      "metadata": {
        "id": "zu-V4DEMTY2i",
        "colab": {
          "base_uri": "https://localhost:8080/"
        },
        "outputId": "a901b71a-d78c-407d-e981-605ac2ad63e4"
      },
      "outputs": [
        {
          "output_type": "stream",
          "name": "stdout",
          "text": [
            "Python\n"
          ]
        }
      ],
      "source": [
        "w= 'Python'\n",
        "print(w)"
      ]
    },
    {
      "cell_type": "code",
      "execution_count": null,
      "metadata": {
        "colab": {
          "base_uri": "https://localhost:8080/",
          "height": 35
        },
        "id": "ULb_bZBQTedo",
        "outputId": "3c5008a7-5012-433b-ce71-ae950b5d98f9"
      },
      "outputs": [
        {
          "output_type": "execute_result",
          "data": {
            "application/vnd.google.colaboratory.intrinsic+json": {
              "type": "string"
            },
            "text/plain": [
              "'ython'"
            ]
          },
          "metadata": {},
          "execution_count": 43
        }
      ],
      "source": [
        "w[1:]"
      ]
    },
    {
      "cell_type": "code",
      "source": [
        "w[1]"
      ],
      "metadata": {
        "colab": {
          "base_uri": "https://localhost:8080/",
          "height": 35
        },
        "id": "vnbCyIlQ_u4p",
        "outputId": "4a8f93b2-9b03-43b7-b9a8-41cecc0eda4a"
      },
      "execution_count": null,
      "outputs": [
        {
          "output_type": "execute_result",
          "data": {
            "application/vnd.google.colaboratory.intrinsic+json": {
              "type": "string"
            },
            "text/plain": [
              "'y'"
            ]
          },
          "metadata": {},
          "execution_count": 44
        }
      ]
    },
    {
      "cell_type": "code",
      "execution_count": null,
      "metadata": {
        "colab": {
          "base_uri": "https://localhost:8080/",
          "height": 35
        },
        "id": "z2slSq0-Tkth",
        "outputId": "92d9a96c-ef72-4afc-b71c-ea2c953f9bf1"
      },
      "outputs": [
        {
          "output_type": "execute_result",
          "data": {
            "application/vnd.google.colaboratory.intrinsic+json": {
              "type": "string"
            },
            "text/plain": [
              "'n'"
            ]
          },
          "metadata": {},
          "execution_count": 27
        }
      ],
      "source": [
        "w[-1]"
      ]
    },
    {
      "cell_type": "markdown",
      "source": [
        "The index can be negative as well. W[-1] means last character of string."
      ],
      "metadata": {
        "id": "2n4yLEA93jnB"
      }
    },
    {
      "cell_type": "code",
      "execution_count": null,
      "metadata": {
        "colab": {
          "base_uri": "https://localhost:8080/",
          "height": 35
        },
        "id": "x4P8DYTZTqOI",
        "outputId": "7942b54c-40e1-47df-95bf-0f884925e134"
      },
      "outputs": [
        {
          "output_type": "execute_result",
          "data": {
            "application/vnd.google.colaboratory.intrinsic+json": {
              "type": "string"
            },
            "text/plain": [
              "'n'"
            ]
          },
          "metadata": {},
          "execution_count": 33
        }
      ],
      "source": [
        "w[-1]"
      ]
    },
    {
      "cell_type": "code",
      "execution_count": null,
      "metadata": {
        "colab": {
          "base_uri": "https://localhost:8080/",
          "height": 35
        },
        "id": "PbvLCDCyTyKi",
        "outputId": "5b56034e-cc36-4c8d-9f13-f7e7d4c9cdce"
      },
      "outputs": [
        {
          "output_type": "execute_result",
          "data": {
            "application/vnd.google.colaboratory.intrinsic+json": {
              "type": "string"
            },
            "text/plain": [
              "'h'"
            ]
          },
          "metadata": {},
          "execution_count": 34
        }
      ],
      "source": [
        "w[-3]"
      ]
    },
    {
      "cell_type": "code",
      "execution_count": null,
      "metadata": {
        "colab": {
          "base_uri": "https://localhost:8080/",
          "height": 35
        },
        "id": "O17tlrLuT2fe",
        "outputId": "dc96d572-19c4-4831-ca1d-474cddcbd4d5"
      },
      "outputs": [
        {
          "output_type": "execute_result",
          "data": {
            "application/vnd.google.colaboratory.intrinsic+json": {
              "type": "string"
            },
            "text/plain": [
              "'thon'"
            ]
          },
          "metadata": {},
          "execution_count": 35
        }
      ],
      "source": [
        "w[2:]"
      ]
    },
    {
      "cell_type": "code",
      "execution_count": null,
      "metadata": {
        "colab": {
          "base_uri": "https://localhost:8080/",
          "height": 35
        },
        "id": "xqNsrhaTUEDr",
        "outputId": "7fa8fac2-07d5-498f-fe5a-ec4f2450b409"
      },
      "outputs": [
        {
          "output_type": "execute_result",
          "data": {
            "application/vnd.google.colaboratory.intrinsic+json": {
              "type": "string"
            },
            "text/plain": [
              "'tho'"
            ]
          },
          "metadata": {},
          "execution_count": 36
        }
      ],
      "source": [
        "w[2:5]"
      ]
    },
    {
      "cell_type": "markdown",
      "metadata": {
        "id": "lDgtWkv-R4ze"
      },
      "source": [
        "Python strings are immutable, i.e., the character of string can not be replaced by using its index."
      ]
    },
    {
      "cell_type": "code",
      "execution_count": null,
      "metadata": {
        "colab": {
          "base_uri": "https://localhost:8080/",
          "height": 165
        },
        "id": "UhJD5bw2UpQp",
        "outputId": "fcdb7234-4579-49dc-a456-48e3d7d63112"
      },
      "outputs": [
        {
          "output_type": "error",
          "ename": "TypeError",
          "evalue": "ignored",
          "traceback": [
            "\u001b[0;31m---------------------------------------------------------------------------\u001b[0m",
            "\u001b[0;31mTypeError\u001b[0m                                 Traceback (most recent call last)",
            "\u001b[0;32m<ipython-input-37-42158804f19e>\u001b[0m in \u001b[0;36m<module>\u001b[0;34m()\u001b[0m\n\u001b[0;32m----> 1\u001b[0;31m \u001b[0mw\u001b[0m\u001b[0;34m[\u001b[0m\u001b[0;36m0\u001b[0m\u001b[0;34m]\u001b[0m\u001b[0;34m=\u001b[0m \u001b[0;34m'R'\u001b[0m\u001b[0;34m;\u001b[0m\u001b[0;34m\u001b[0m\u001b[0;34m\u001b[0m\u001b[0m\n\u001b[0m",
            "\u001b[0;31mTypeError\u001b[0m: 'str' object does not support item assignment"
          ]
        }
      ],
      "source": [
        "w[0]= 'R';"
      ]
    },
    {
      "cell_type": "markdown",
      "metadata": {
        "id": "CZrvokwdhkRL"
      },
      "source": [
        "We can create new string by concatenating with the previous one."
      ]
    },
    {
      "cell_type": "code",
      "execution_count": null,
      "metadata": {
        "colab": {
          "base_uri": "https://localhost:8080/",
          "height": 35
        },
        "id": "pRMy6leGiZjS",
        "outputId": "92975149-5019-4128-cc0d-57cf979f0beb"
      },
      "outputs": [
        {
          "output_type": "execute_result",
          "data": {
            "application/vnd.google.colaboratory.intrinsic+json": {
              "type": "string"
            },
            "text/plain": [
              "'Rython'"
            ]
          },
          "metadata": {},
          "execution_count": 38
        }
      ],
      "source": [
        "'R'+w[1:]\n"
      ]
    },
    {
      "cell_type": "markdown",
      "metadata": {
        "id": "KVLiUJO4ivFb"
      },
      "source": [
        "The length of the string can be calculated by the function 'len'."
      ]
    },
    {
      "cell_type": "code",
      "execution_count": null,
      "metadata": {
        "colab": {
          "base_uri": "https://localhost:8080/"
        },
        "id": "Ra2iTdfBi2RX",
        "outputId": "9b0c9560-4d20-400b-92ff-7a3b1f0e8a44"
      },
      "outputs": [
        {
          "output_type": "stream",
          "name": "stdout",
          "text": [
            "The lengh of the sting w is 6\n"
          ]
        }
      ],
      "source": [
        "print('The lengh of the sting w is', len(w));"
      ]
    },
    {
      "cell_type": "markdown",
      "metadata": {
        "id": "tav73K7cjaoO"
      },
      "source": [
        "**List** contains multiple values in the single variable (items separated by the comma in square bracket). "
      ]
    },
    {
      "cell_type": "code",
      "execution_count": null,
      "metadata": {
        "colab": {
          "base_uri": "https://localhost:8080/"
        },
        "id": "hTYxaQ_-k5hF",
        "outputId": "e50b7c35-4720-4693-c688-28b4a1dcf4cc"
      },
      "outputs": [
        {
          "output_type": "execute_result",
          "data": {
            "text/plain": [
              "3"
            ]
          },
          "metadata": {},
          "execution_count": 45
        }
      ],
      "source": [
        "Natural_number= [1,2,3,4,5];\n",
        "Natural_number[2]"
      ]
    },
    {
      "cell_type": "markdown",
      "metadata": {
        "id": "I2ejNih1lWC4"
      },
      "source": [
        "We can also store strings in the list."
      ]
    },
    {
      "cell_type": "code",
      "execution_count": null,
      "metadata": {
        "colab": {
          "base_uri": "https://localhost:8080/",
          "height": 35
        },
        "id": "vggLwPeIlfi4",
        "outputId": "04736432-6adb-4d65-9408-be8ca063121b"
      },
      "outputs": [
        {
          "output_type": "execute_result",
          "data": {
            "application/vnd.google.colaboratory.intrinsic+json": {
              "type": "string"
            },
            "text/plain": [
              "'f'"
            ]
          },
          "metadata": {},
          "execution_count": 46
        }
      ],
      "source": [
        "l = ['a','b','c','d','e','f'];\n",
        "l[5]"
      ]
    },
    {
      "cell_type": "markdown",
      "metadata": {
        "id": "qfx26BdXnGLq"
      },
      "source": [
        "Concatenation of the lists is also possible similar to the string."
      ]
    },
    {
      "cell_type": "code",
      "execution_count": null,
      "metadata": {
        "colab": {
          "base_uri": "https://localhost:8080/"
        },
        "id": "Vr5nGMqZm6c8",
        "outputId": "8f320c90-e1e7-4912-f64e-ffe438278ff2"
      },
      "outputs": [
        {
          "output_type": "execute_result",
          "data": {
            "text/plain": [
              "['a', 'b', 'c', 'd', 'e', 'f', 1, 2, 3, 4, 5]"
            ]
          },
          "metadata": {},
          "execution_count": 47
        }
      ],
      "source": [
        "l+Natural_number "
      ]
    },
    {
      "cell_type": "markdown",
      "metadata": {
        "id": "Ucuc6gcWnldq"
      },
      "source": [
        "We can add more elements in the list by using function 'append'."
      ]
    },
    {
      "cell_type": "code",
      "execution_count": null,
      "metadata": {
        "colab": {
          "base_uri": "https://localhost:8080/"
        },
        "id": "rwntrLvfn84n",
        "outputId": "2568fb36-b76e-4647-c4f7-0ad4c54d8f10"
      },
      "outputs": [
        {
          "output_type": "execute_result",
          "data": {
            "text/plain": [
              "[1, 2, 2, 4, 12]"
            ]
          },
          "metadata": {},
          "execution_count": 48
        }
      ],
      "source": [
        "Numbers = [1,2,2,4];\n",
        "Numbers.append(12); \n",
        "Numbers"
      ]
    },
    {
      "cell_type": "code",
      "source": [
        "A=[1,2,3,4,5,6,7,8,9,10]\n",
        "print(A[-1:-5])"
      ],
      "metadata": {
        "colab": {
          "base_uri": "https://localhost:8080/"
        },
        "id": "UJdvrOPKA4r7",
        "outputId": "bf0a1913-8c45-4b21-b648-310cb5c1d028"
      },
      "execution_count": null,
      "outputs": [
        {
          "output_type": "stream",
          "name": "stdout",
          "text": [
            "[]\n"
          ]
        }
      ]
    },
    {
      "cell_type": "markdown",
      "metadata": {
        "id": "4sn-7w8no5M0"
      },
      "source": [
        "Replacement of the item within list is possible using indexing. "
      ]
    },
    {
      "cell_type": "code",
      "execution_count": null,
      "metadata": {
        "colab": {
          "base_uri": "https://localhost:8080/"
        },
        "id": "OCbnPIHZpKil",
        "outputId": "261e4361-4b0f-465b-ea1c-1716982d5433"
      },
      "outputs": [
        {
          "output_type": "execute_result",
          "data": {
            "text/plain": [
              "[1, 2, 2, 50, 12]"
            ]
          },
          "metadata": {},
          "execution_count": 49
        }
      ],
      "source": [
        "Numbers[3] = 50;\n",
        "Numbers"
      ]
    },
    {
      "cell_type": "markdown",
      "metadata": {
        "id": "tasbdyXipiww"
      },
      "source": [
        "We can also find the lengh of the list with the same function len."
      ]
    },
    {
      "cell_type": "code",
      "execution_count": null,
      "metadata": {
        "colab": {
          "base_uri": "https://localhost:8080/"
        },
        "id": "-K_XsglGp5me",
        "outputId": "a4df7354-accd-4362-d7f6-3577f9709204"
      },
      "outputs": [
        {
          "output_type": "stream",
          "name": "stdout",
          "text": [
            "The length of the list (Number) is 5\n"
          ]
        }
      ],
      "source": [
        "print('The length of the list (Number) is', len(Numbers));"
      ]
    },
    {
      "cell_type": "markdown",
      "metadata": {
        "id": "jMHHWRNzqopP"
      },
      "source": [
        "It is also possible to nest the list."
      ]
    },
    {
      "cell_type": "code",
      "execution_count": null,
      "metadata": {
        "colab": {
          "base_uri": "https://localhost:8080/"
        },
        "id": "5xSPjLr5quao",
        "outputId": "0d7c3f4e-3c97-4e8b-8876-7e71ad54d2b7"
      },
      "outputs": [
        {
          "output_type": "execute_result",
          "data": {
            "text/plain": [
              "[[1, 2, 3, 4, 5], ['a', 'b', 'c', 'd', 'e', 'f']]"
            ]
          },
          "metadata": {},
          "execution_count": 51
        }
      ],
      "source": [
        "Nested_list = [Natural_number,l];\n",
        "Nested_list"
      ]
    },
    {
      "cell_type": "markdown",
      "metadata": {
        "id": "z5J5WwE2rcXH"
      },
      "source": [
        "Finding the elements in the nested list."
      ]
    },
    {
      "cell_type": "code",
      "execution_count": null,
      "metadata": {
        "colab": {
          "base_uri": "https://localhost:8080/"
        },
        "id": "CUFuzomtrxOO",
        "outputId": "0ab63fe3-3c89-4893-ad8e-b87db65a7b84"
      },
      "outputs": [
        {
          "output_type": "execute_result",
          "data": {
            "text/plain": [
              "4"
            ]
          },
          "metadata": {},
          "execution_count": 52
        }
      ],
      "source": [
        "Nested_list[0][3]"
      ]
    },
    {
      "cell_type": "code",
      "execution_count": null,
      "metadata": {
        "colab": {
          "base_uri": "https://localhost:8080/"
        },
        "id": "1i85FBPFsKGm",
        "outputId": "246bf225-f469-4a34-d89d-784ab4cea42e"
      },
      "outputs": [
        {
          "output_type": "execute_result",
          "data": {
            "text/plain": [
              "4"
            ]
          },
          "metadata": {},
          "execution_count": 35
        }
      ],
      "source": [
        "Nested_list[0][3]"
      ]
    },
    {
      "cell_type": "markdown",
      "metadata": {
        "id": "I_tZxY5tsXED"
      },
      "source": [
        "Printing the numbers less than 10 and greater than 1 using while statement."
      ]
    },
    {
      "cell_type": "code",
      "execution_count": null,
      "metadata": {
        "id": "u2uIcT1qtk0Y"
      },
      "outputs": [],
      "source": [
        "a = 1;\n",
        "while a<=10:\n",
        "  print(a);\n",
        "  a = a+1;"
      ]
    },
    {
      "cell_type": "markdown",
      "metadata": {
        "id": "D8QMLJmOvU-q"
      },
      "source": [
        "Keyword end can be used to avoid newline after every output."
      ]
    },
    {
      "cell_type": "markdown",
      "metadata": {
        "id": "woOFEEURv2Hm"
      },
      "source": [
        "Next the control is if else."
      ]
    },
    {
      "cell_type": "code",
      "execution_count": null,
      "metadata": {
        "colab": {
          "base_uri": "https://localhost:8080/"
        },
        "id": "HFFDtxJsv6ka",
        "outputId": "2a488a9e-59cc-4eb0-f0de-58ee2f3c4408"
      },
      "outputs": [
        {
          "name": "stdout",
          "output_type": "stream",
          "text": [
            "Please enter an integer:20\n"
          ]
        }
      ],
      "source": [
        "x = int(input('Please enter an integer:')); "
      ]
    },
    {
      "cell_type": "code",
      "source": [
        "type(x)"
      ],
      "metadata": {
        "colab": {
          "base_uri": "https://localhost:8080/"
        },
        "id": "6R4dVQMzCIjy",
        "outputId": "1b814929-6563-4c14-9cb9-ebff04b8ca6c"
      },
      "execution_count": null,
      "outputs": [
        {
          "output_type": "execute_result",
          "data": {
            "text/plain": [
              "int"
            ]
          },
          "metadata": {},
          "execution_count": 73
        }
      ]
    },
    {
      "cell_type": "code",
      "source": [
        "y= 20.1\n",
        "type(y)"
      ],
      "metadata": {
        "colab": {
          "base_uri": "https://localhost:8080/"
        },
        "id": "HiHjngQvDkiJ",
        "outputId": "216d51bd-ea1d-4ca9-f8ee-6415c23b4811"
      },
      "execution_count": null,
      "outputs": [
        {
          "output_type": "execute_result",
          "data": {
            "text/plain": [
              "float"
            ]
          },
          "metadata": {},
          "execution_count": 76
        }
      ]
    }
  ],
  "metadata": {
    "colab": {
      "collapsed_sections": [],
      "name": "Python_basics_1.ipynb",
      "provenance": [],
      "include_colab_link": true
    },
    "kernelspec": {
      "display_name": "Python 3",
      "name": "python3"
    },
    "language_info": {
      "name": "python"
    }
  },
  "nbformat": 4,
  "nbformat_minor": 0
}