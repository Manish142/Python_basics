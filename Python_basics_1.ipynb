{
  "cells": [
    {
      "cell_type": "markdown",
      "metadata": {
        "id": "view-in-github",
        "colab_type": "text"
      },
      "source": [
        "<a href=\"https://colab.research.google.com/github/Manish142/Python_basics/blob/edits/Python_basics_1.ipynb\" target=\"_parent\"><img src=\"https://colab.research.google.com/assets/colab-badge.svg\" alt=\"Open In Colab\"/></a>"
      ]
    },
    {
      "cell_type": "markdown",
      "source": [
        "# Arthimatic operations"
      ],
      "metadata": {
        "id": "FQ7Q3mnCutQM"
      }
    },
    {
      "cell_type": "markdown",
      "source": [
        "The following code illustrates the basic mathematical operationals like addition, subtration and multiplication."
      ],
      "metadata": {
        "id": "s3ezakXZtnuS"
      }
    },
    {
      "cell_type": "code",
      "execution_count": null,
      "metadata": {
        "id": "DWSxmbIq_LTH"
      },
      "outputs": [],
      "source": [
        "a = 10;\n",
        "b = 3;\n",
        "c = a+b; # Sum of a and b\n",
        "d = a-b; # Subtraction of two numbers\n",
        "e = a*b  # Multiplication\n",
        "\n",
        "print('The addition of the numbers', a, 'and', b, 'is', c);\n",
        "print('The subtraction of the numbers', a, 'and', b, 'is', d);\n",
        "print('The multiplication of the numbers', a, 'and', b, 'is', e);"
      ]
    },
    {
      "cell_type": "markdown",
      "metadata": {
        "id": "r8SsDGSMHKl8"
      },
      "source": [
        "Similar to the above stated basic arithematic operations, we can also perform other arthimatic operations like: square, power of a number, division, remainder.\n"
      ]
    },
    {
      "cell_type": "code",
      "execution_count": null,
      "metadata": {
        "id": "lKo2cIBaH_5h"
      },
      "outputs": [],
      "source": [
        "k = a ** 2        \n",
        "g = a ** b       \n",
        "h = a/b          \n",
        "i = a // b\n",
        "j = a % b    # Modulus in Python\n",
        "print('The square of the numbers', a,'is', k);     \n",
        "print(a,\"raised to the power\", b ,'is', g);\n",
        "print(a, \"divided by \",b,'is', h);\n",
        "print('The floor division of',a,'and',b,'is',i)\n",
        "print('The remainder obtained after dividing',a,'by',b,'is',j)"
      ]
    },
    {
      "cell_type": "markdown",
      "metadata": {
        "id": "y1ujSdG4-Eyo"
      },
      "source": [
        "The example below demonstrates the basics of the python Programming. Here we have calculated the Simple interest using basic formula.Through these simple examples one can learn the basics of Python Programming."
      ]
    },
    {
      "cell_type": "code",
      "execution_count": 26,
      "metadata": {
        "id": "JliI5Dpp849k"
      },
      "outputs": [],
      "source": [
        "Rate = 10 \n",
        "Time = 0.5\n",
        "Principal = 5000\n",
        "Interest = (Rate *Time * Principal)/100"
      ]
    },
    {
      "cell_type": "markdown",
      "source": [
        "# String Operations"
      ],
      "metadata": {
        "id": "O9oKpZH85pgI"
      }
    },
    {
      "cell_type": "markdown",
      "source": [
        "String can be written by enclosing characters within **single** and **double** quotes. The next few lines illustrates this."
      ],
      "metadata": {
        "id": "aEWjP-OUwvnu"
      }
    },
    {
      "cell_type": "markdown",
      "metadata": {
        "id": "Tb1dx6yC8G83"
      },
      "source": [
        "A string is enclosed in **single** quote:"
      ]
    },
    {
      "cell_type": "code",
      "source": [
        "'Learning Python'"
      ],
      "metadata": {
        "id": "Y8hq6Jdn0npA"
      },
      "execution_count": null,
      "outputs": []
    },
    {
      "cell_type": "markdown",
      "source": [
        "A string is enclosed in **double** quote:"
      ],
      "metadata": {
        "id": "fdgbbyug7Gg0"
      }
    },
    {
      "cell_type": "code",
      "execution_count": null,
      "metadata": {
        "id": "Dc6Kh2sG8a8o"
      },
      "outputs": [],
      "source": [
        "\"Learning Python\""
      ]
    },
    {
      "cell_type": "markdown",
      "source": [
        "If the string includes multiple lines, then that particular string can be included in the triple double quotes. It can be depicted as follows:"
      ],
      "metadata": {
        "id": "mY2FIm1RIha_"
      }
    },
    {
      "cell_type": "code",
      "execution_count": null,
      "metadata": {
        "id": "FStwbGz47r2n"
      },
      "outputs": [],
      "source": [
        "\"\"\"String can be written by enclosing characters within single and double quotes. \n",
        "The next few lines illustrates this.\"\"\""
      ]
    },
    {
      "cell_type": "markdown",
      "metadata": {
        "id": "UDnrPR_WzG1B"
      },
      "source": [
        "We can use backslash with character in string to perform different operations. For example: \n",
        "1. '\\n' is used for writing in the new line.  "
      ]
    },
    {
      "cell_type": "code",
      "execution_count": null,
      "metadata": {
        "id": "trJA1vLL-jRQ"
      },
      "outputs": [],
      "source": [
        "print(\"I am learning Python. \\nIt is very interesting.\");"
      ]
    },
    {
      "cell_type": "markdown",
      "metadata": {
        "id": "oDMcjBH6_OZy"
      },
      "source": [
        "2. '\\t' is used to add white spaces in the string."
      ]
    },
    {
      "cell_type": "code",
      "execution_count": null,
      "metadata": {
        "id": "cJSY7Ldp_7aR"
      },
      "outputs": [],
      "source": [
        "print('I am learning Python.\\tIt is very interesting.');\n"
      ]
    },
    {
      "cell_type": "markdown",
      "metadata": {
        "id": "DkvGyiD7B1DE"
      },
      "source": [
        "If you do not want special characters to be evaluated, then you can use r before first quote."
      ]
    },
    {
      "cell_type": "markdown",
      "metadata": {
        "id": "crBy5bSQPIgu"
      },
      "source": [
        "If we do not put r in front of the string."
      ]
    },
    {
      "cell_type": "code",
      "execution_count": null,
      "metadata": {
        "id": "FZeZnsBgPPq3"
      },
      "outputs": [],
      "source": [
        "print('C:User\\time\\name');"
      ]
    },
    {
      "cell_type": "code",
      "execution_count": null,
      "metadata": {
        "id": "AFaLQwRwCVGA"
      },
      "outputs": [],
      "source": [
        "print(r'C:User\\time\\name');"
      ]
    },
    {
      "cell_type": "markdown",
      "metadata": {
        "id": "-D9JLyH9PXAT"
      },
      "source": [
        "If there are multiple lines of string..."
      ]
    },
    {
      "cell_type": "code",
      "execution_count": null,
      "metadata": {
        "id": "838xY4XgQYAz"
      },
      "outputs": [],
      "source": [
        "print(\"\"\"It is easy to learn Python.\n",
        "Further, it is very useful programming language in present era.\"\"\");"
      ]
    },
    {
      "cell_type": "markdown",
      "metadata": {
        "id": "rf82n5geRa1X"
      },
      "source": [
        "**Concatination** of the string can be done by following ways:\n",
        "1. Placing the string laterals together.\n",
        "2. Putting the '+' sign in between the strings.\n",
        "3. Strings can be repeated by putting the sign '*'."
      ]
    },
    {
      "cell_type": "code",
      "execution_count": null,
      "metadata": {
        "id": "Z65CRdg9Ru7w"
      },
      "outputs": [],
      "source": [
        "print('P''y''thon')"
      ]
    },
    {
      "cell_type": "code",
      "execution_count": null,
      "metadata": {
        "id": "Xu2sl1jRSXq0"
      },
      "outputs": [],
      "source": [
        "'Py'+'thon'"
      ]
    },
    {
      "cell_type": "code",
      "execution_count": null,
      "metadata": {
        "id": "S3XMlUUNSpoJ"
      },
      "outputs": [],
      "source": [
        "3*'Py'+'thon'"
      ]
    },
    {
      "cell_type": "code",
      "execution_count": null,
      "metadata": {
        "id": "8kJ1dTq4S0Gj"
      },
      "outputs": [],
      "source": [
        "3*'Py'+ 2*'thon'"
      ]
    },
    {
      "cell_type": "markdown",
      "metadata": {
        "id": "-M7uiyO_TI3p"
      },
      "source": [
        "Strings can be indexed with the first character having place value zero. "
      ]
    },
    {
      "cell_type": "code",
      "execution_count": null,
      "metadata": {
        "id": "zu-V4DEMTY2i"
      },
      "outputs": [],
      "source": [
        "w= 'Python'\n",
        "print(w)"
      ]
    },
    {
      "cell_type": "code",
      "execution_count": null,
      "metadata": {
        "id": "ULb_bZBQTedo"
      },
      "outputs": [],
      "source": [
        "w[1:]"
      ]
    },
    {
      "cell_type": "code",
      "source": [
        "w[1]"
      ],
      "metadata": {
        "id": "vnbCyIlQ_u4p"
      },
      "execution_count": null,
      "outputs": []
    },
    {
      "cell_type": "markdown",
      "source": [
        "The index can be negative as well. W[-1] means last character of string."
      ],
      "metadata": {
        "id": "2n4yLEA93jnB"
      }
    },
    {
      "cell_type": "code",
      "execution_count": null,
      "metadata": {
        "id": "x4P8DYTZTqOI"
      },
      "outputs": [],
      "source": [
        "w[-1]"
      ]
    },
    {
      "cell_type": "code",
      "execution_count": null,
      "metadata": {
        "id": "PbvLCDCyTyKi"
      },
      "outputs": [],
      "source": [
        "w[-3]"
      ]
    },
    {
      "cell_type": "code",
      "execution_count": null,
      "metadata": {
        "id": "O17tlrLuT2fe"
      },
      "outputs": [],
      "source": [
        "w[2:]"
      ]
    },
    {
      "cell_type": "code",
      "execution_count": null,
      "metadata": {
        "id": "xqNsrhaTUEDr"
      },
      "outputs": [],
      "source": [
        "w[2:5]"
      ]
    },
    {
      "cell_type": "markdown",
      "metadata": {
        "id": "lDgtWkv-R4ze"
      },
      "source": [
        "Python strings are immutable, i.e., the character of string can not be replaced by using its index."
      ]
    },
    {
      "cell_type": "code",
      "execution_count": null,
      "metadata": {
        "id": "UhJD5bw2UpQp"
      },
      "outputs": [],
      "source": [
        "w[0]= 'R';"
      ]
    },
    {
      "cell_type": "markdown",
      "metadata": {
        "id": "CZrvokwdhkRL"
      },
      "source": [
        "We can create new string by concatenating with the previous one."
      ]
    },
    {
      "cell_type": "code",
      "execution_count": null,
      "metadata": {
        "id": "pRMy6leGiZjS"
      },
      "outputs": [],
      "source": [
        "'R'+w[1:]"
      ]
    },
    {
      "cell_type": "markdown",
      "metadata": {
        "id": "KVLiUJO4ivFb"
      },
      "source": [
        "The length of the string can be calculated by the function 'len'."
      ]
    },
    {
      "cell_type": "code",
      "execution_count": null,
      "metadata": {
        "id": "Ra2iTdfBi2RX"
      },
      "outputs": [],
      "source": [
        "print('The length of the string w is:', len(w));"
      ]
    },
    {
      "cell_type": "markdown",
      "source": [
        "# List Operations"
      ],
      "metadata": {
        "id": "3SpbPkirMmHn"
      }
    },
    {
      "cell_type": "markdown",
      "metadata": {
        "id": "tav73K7cjaoO"
      },
      "source": [
        "**List** contains multiple values in the single variable (items separated by the comma in square bracket). "
      ]
    },
    {
      "cell_type": "code",
      "execution_count": null,
      "metadata": {
        "id": "hTYxaQ_-k5hF"
      },
      "outputs": [],
      "source": [
        "Natural_number= [1,2,3,4,5];\n",
        "Natural_number[2]"
      ]
    },
    {
      "cell_type": "markdown",
      "metadata": {
        "id": "I2ejNih1lWC4"
      },
      "source": [
        "We can also store strings in the list."
      ]
    },
    {
      "cell_type": "code",
      "execution_count": null,
      "metadata": {
        "id": "vggLwPeIlfi4"
      },
      "outputs": [],
      "source": [
        "l = ['a','b','c','d','e','f'];\n",
        "l[5]"
      ]
    },
    {
      "cell_type": "markdown",
      "metadata": {
        "id": "qfx26BdXnGLq"
      },
      "source": [
        "Concatenation of the lists is also possible similar to the string."
      ]
    },
    {
      "cell_type": "code",
      "execution_count": null,
      "metadata": {
        "id": "Vr5nGMqZm6c8"
      },
      "outputs": [],
      "source": [
        "l+Natural_number "
      ]
    },
    {
      "cell_type": "markdown",
      "metadata": {
        "id": "Ucuc6gcWnldq"
      },
      "source": [
        "We can add more elements in the list by using function 'append'."
      ]
    },
    {
      "cell_type": "code",
      "execution_count": null,
      "metadata": {
        "id": "rwntrLvfn84n"
      },
      "outputs": [],
      "source": [
        "Numbers = [1,2,2,4];\n",
        "Numbers.append(12); \n",
        "Numbers"
      ]
    },
    {
      "cell_type": "code",
      "source": [
        "A=[1,2,3,4,5,6,7,8,9,10]\n",
        "print(A[-1:-5])"
      ],
      "metadata": {
        "id": "UJdvrOPKA4r7"
      },
      "execution_count": null,
      "outputs": []
    },
    {
      "cell_type": "markdown",
      "metadata": {
        "id": "4sn-7w8no5M0"
      },
      "source": [
        "Replacement of the item within list is possible using indexing. "
      ]
    },
    {
      "cell_type": "code",
      "execution_count": null,
      "metadata": {
        "id": "OCbnPIHZpKil"
      },
      "outputs": [],
      "source": [
        "Numbers[3] = 50;\n",
        "Numbers"
      ]
    },
    {
      "cell_type": "markdown",
      "metadata": {
        "id": "tasbdyXipiww"
      },
      "source": [
        "We can also find the lengh of the list with the same function len."
      ]
    },
    {
      "cell_type": "code",
      "execution_count": null,
      "metadata": {
        "id": "-K_XsglGp5me"
      },
      "outputs": [],
      "source": [
        "print('The length of the list (Number) is:', len(Numbers));"
      ]
    },
    {
      "cell_type": "markdown",
      "metadata": {
        "id": "jMHHWRNzqopP"
      },
      "source": [
        "It is also possible to nest the list."
      ]
    },
    {
      "cell_type": "code",
      "execution_count": null,
      "metadata": {
        "id": "5xSPjLr5quao"
      },
      "outputs": [],
      "source": [
        "Nested_list = [Natural_number,l];\n",
        "Nested_list"
      ]
    },
    {
      "cell_type": "markdown",
      "metadata": {
        "id": "z5J5WwE2rcXH"
      },
      "source": [
        "Finding the elements in the nested list."
      ]
    },
    {
      "cell_type": "code",
      "execution_count": null,
      "metadata": {
        "id": "CUFuzomtrxOO"
      },
      "outputs": [],
      "source": [
        "Nested_list[0][3]"
      ]
    },
    {
      "cell_type": "code",
      "execution_count": null,
      "metadata": {
        "id": "1i85FBPFsKGm"
      },
      "outputs": [],
      "source": [
        "Nested_list[0][3]"
      ]
    },
    {
      "cell_type": "markdown",
      "metadata": {
        "id": "I_tZxY5tsXED"
      },
      "source": [
        "Printing the numbers less than 10 and greater than 1 using while statement."
      ]
    }
  ],
  "metadata": {
    "colab": {
      "collapsed_sections": [],
      "name": "Python_basics_1.ipynb",
      "provenance": [],
      "include_colab_link": true
    },
    "kernelspec": {
      "display_name": "Python 3",
      "name": "python3"
    },
    "language_info": {
      "name": "python"
    }
  },
  "nbformat": 4,
  "nbformat_minor": 0
}