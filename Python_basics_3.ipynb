{
  "nbformat": 4,
  "nbformat_minor": 0,
  "metadata": {
    "colab": {
      "name": "Python_basics_3.ipynb",
      "provenance": [],
      "authorship_tag": "ABX9TyOHvIxWklnAgTd4Yq0pLf9u",
      "include_colab_link": true
    },
    "kernelspec": {
      "name": "python3",
      "display_name": "Python 3"
    },
    "language_info": {
      "name": "python"
    }
  },
  "cells": [
    {
      "cell_type": "markdown",
      "metadata": {
        "id": "view-in-github",
        "colab_type": "text"
      },
      "source": [
        "<a href=\"https://colab.research.google.com/github/Manish142/Python_basics/blob/Edits/Python_basics_3.ipynb\" target=\"_parent\"><img src=\"https://colab.research.google.com/assets/colab-badge.svg\" alt=\"Open In Colab\"/></a>"
      ]
    },
    {
      "cell_type": "markdown",
      "source": [
        "# Tuples "
      ],
      "metadata": {
        "id": "7geUA5aM98Pm"
      }
    },
    {
      "cell_type": "markdown",
      "source": [
        "Tuple is one of the data types used in the Python. The following lines of the code depicts it using various examples: \n",
        "\n"
      ],
      "metadata": {
        "id": "9WtU-C8y_6qU"
      }
    },
    {
      "cell_type": "code",
      "execution_count": null,
      "metadata": {
        "id": "a10QWi_F9q6r"
      },
      "outputs": [],
      "source": [
        "t = 12345,'Ram','12345'"
      ]
    },
    {
      "cell_type": "markdown",
      "source": [
        "Printing the tuple 't'"
      ],
      "metadata": {
        "id": "reV1XO8bxcUj"
      }
    },
    {
      "cell_type": "code",
      "source": [
        "print(t)"
      ],
      "metadata": {
        "id": "cjOebIjJ_jdm"
      },
      "execution_count": null,
      "outputs": []
    },
    {
      "cell_type": "markdown",
      "source": [
        "The element inside the tuple can be accessed with the help of its indices. "
      ],
      "metadata": {
        "id": "10L9zwIixOvQ"
      }
    },
    {
      "cell_type": "code",
      "source": [
        "t[2] "
      ],
      "metadata": {
        "id": "VnbTWEXxwc-Z"
      },
      "execution_count": null,
      "outputs": []
    },
    {
      "cell_type": "markdown",
      "source": [
        "Trying to access the out of bound element of the tuple:"
      ],
      "metadata": {
        "id": "4z0Tn_cdws1F"
      }
    },
    {
      "cell_type": "code",
      "source": [
        "t[4]"
      ],
      "metadata": {
        "id": "mmaGeyfh-6oF"
      },
      "execution_count": null,
      "outputs": []
    },
    {
      "cell_type": "markdown",
      "source": [
        "Tupels are immutable. We can understand it with the help of following example:"
      ],
      "metadata": {
        "id": "sNjg0JoV_rX5"
      }
    },
    {
      "cell_type": "code",
      "source": [
        "t[0] = 'Ramesh'"
      ],
      "metadata": {
        "id": "8hQpBxt3_I80"
      },
      "execution_count": null,
      "outputs": []
    },
    {
      "cell_type": "markdown",
      "source": [
        "**Tupels can be nested.** \n",
        "In the following example, the tuple 't' has been used as one of the elements of the tuple z. "
      ],
      "metadata": {
        "id": "GCC6VwUKAT1d"
      }
    },
    {
      "cell_type": "code",
      "source": [
        "z= (t,(1,2,3,4,5,6))\n",
        "print(z)"
      ],
      "metadata": {
        "id": "WoB0fVW5_a33"
      },
      "execution_count": null,
      "outputs": []
    },
    {
      "cell_type": "markdown",
      "source": [
        "The elements inside the nested tuple can be found as follows:"
      ],
      "metadata": {
        "id": "q1aqoMtsCvJC"
      }
    },
    {
      "cell_type": "code",
      "source": [
        "z[0][1]"
      ],
      "metadata": {
        "id": "qfN0HM31PBQB"
      },
      "execution_count": null,
      "outputs": []
    },
    {
      "cell_type": "code",
      "source": [
        "z[1][2]"
      ],
      "metadata": {
        "id": "j7kcEPOyB-bq"
      },
      "execution_count": null,
      "outputs": []
    },
    {
      "cell_type": "markdown",
      "source": [
        "**Tuple packing:**"
      ],
      "metadata": {
        "id": "lUtu-3TkCmKm"
      }
    },
    {
      "cell_type": "code",
      "source": [
        "x,y,z = t"
      ],
      "metadata": {
        "id": "HAWfSxONCETn"
      },
      "execution_count": null,
      "outputs": []
    },
    {
      "cell_type": "code",
      "source": [
        "print(x)"
      ],
      "metadata": {
        "id": "KHpINIMyCXn9"
      },
      "execution_count": null,
      "outputs": []
    },
    {
      "cell_type": "code",
      "source": [
        "print(y)"
      ],
      "metadata": {
        "id": "qQvaP0ScCagP"
      },
      "execution_count": null,
      "outputs": []
    },
    {
      "cell_type": "code",
      "source": [
        "print(z)"
      ],
      "metadata": {
        "id": "kCJDDt3zCdTN"
      },
      "execution_count": null,
      "outputs": []
    },
    {
      "cell_type": "markdown",
      "source": [
        "We can compare the tuples using using inequality symbols. The following example illustrates this:"
      ],
      "metadata": {
        "id": "l_rSK687-3DM"
      }
    },
    {
      "cell_type": "code",
      "source": [
        "(1, 5,3) < (1, 5, 4)"
      ],
      "metadata": {
        "id": "FFBXsFK_Mimg"
      },
      "execution_count": null,
      "outputs": []
    },
    {
      "cell_type": "markdown",
      "source": [
        "#Sets\n",
        "\n"
      ],
      "metadata": {
        "id": "UEEt1lfMCtDI"
      }
    },
    {
      "cell_type": "markdown",
      "source": [
        "A Set is an unordered collection with no duplicate."
      ],
      "metadata": {
        "id": "n6EgL_71DpHi"
      }
    },
    {
      "cell_type": "code",
      "source": [
        "Furniture = {'Table','Chair','Sofa', 'Table'}\n",
        "print(Furniture)"
      ],
      "metadata": {
        "id": "n4NNjm13Cq1M"
      },
      "execution_count": null,
      "outputs": []
    },
    {
      "cell_type": "markdown",
      "source": [
        "The set can not be accessed by using its index."
      ],
      "metadata": {
        "id": "9jOKux7L0kih"
      }
    },
    {
      "cell_type": "code",
      "source": [
        "Furniture[1]"
      ],
      "metadata": {
        "id": "JwP2tN9EDmzL"
      },
      "execution_count": null,
      "outputs": []
    },
    {
      "cell_type": "code",
      "source": [
        "'Table' in Furniture"
      ],
      "metadata": {
        "id": "K2f1nrO7EOQI"
      },
      "execution_count": null,
      "outputs": []
    },
    {
      "cell_type": "code",
      "source": [
        "'fruit' in Furniture"
      ],
      "metadata": {
        "id": "7Qxqo9-xRSxb"
      },
      "execution_count": null,
      "outputs": []
    },
    {
      "cell_type": "code",
      "source": [
        "s = set()"
      ],
      "metadata": {
        "id": "NUQUuybKFphy"
      },
      "execution_count": 5,
      "outputs": []
    },
    {
      "cell_type": "code",
      "source": [
        "print(s)"
      ],
      "metadata": {
        "id": "mA5KzKzRF1hC"
      },
      "execution_count": null,
      "outputs": []
    },
    {
      "cell_type": "markdown",
      "source": [
        "Let us understand sets operation with the help of an example."
      ],
      "metadata": {
        "id": "cG8_gZSP1GO3"
      }
    },
    {
      "cell_type": "markdown",
      "source": [
        "A= {1,2,3,4,5,6,7,8,9,10}"
      ],
      "metadata": {
        "id": "U62306orDXWz"
      }
    },
    {
      "cell_type": "code",
      "source": [
        "A= {1,2,3,4,5,6,7,8,9,10}"
      ],
      "metadata": {
        "id": "BdeFZzLTHACC"
      },
      "execution_count": 7,
      "outputs": []
    },
    {
      "cell_type": "code",
      "source": [
        "B= {10,11,12,13,15,14,15}"
      ],
      "metadata": {
        "id": "VpeN1PDdHBkh"
      },
      "execution_count": 8,
      "outputs": []
    },
    {
      "cell_type": "code",
      "source": [
        "print(B)"
      ],
      "metadata": {
        "id": "JnVmjjpcHKon"
      },
      "execution_count": null,
      "outputs": []
    },
    {
      "cell_type": "markdown",
      "source": [
        "The letters in a or b but not both\n"
      ],
      "metadata": {
        "id": "r01gyNUIA7Rn"
      }
    },
    {
      "cell_type": "code",
      "source": [
        "C= A ^ B"
      ],
      "metadata": {
        "id": "26B-K-reHa3K"
      },
      "execution_count": 10,
      "outputs": []
    },
    {
      "cell_type": "code",
      "source": [
        "print(C)"
      ],
      "metadata": {
        "id": "RiKhmmFKHUHQ"
      },
      "execution_count": null,
      "outputs": []
    },
    {
      "cell_type": "code",
      "source": [
        "E= A.union(B)\n",
        "print(E)"
      ],
      "metadata": {
        "id": "OIX3V-xkACBh"
      },
      "execution_count": null,
      "outputs": []
    },
    {
      "cell_type": "markdown",
      "source": [
        "The intersection of the two sets is represented as follows:"
      ],
      "metadata": {
        "id": "er31E6C716JM"
      }
    },
    {
      "cell_type": "code",
      "source": [
        "A_IN_B= A.intersection(B)\n",
        "print(A_IN_B)"
      ],
      "metadata": {
        "id": "-9Xo2cRvAUSE"
      },
      "execution_count": null,
      "outputs": []
    },
    {
      "cell_type": "markdown",
      "source": [
        "Subtracting the set B from set A:"
      ],
      "metadata": {
        "id": "XsfUKH3D2SmI"
      }
    },
    {
      "cell_type": "code",
      "source": [
        "print(A-B)"
      ],
      "metadata": {
        "id": "0EGtAt-uBM8w"
      },
      "execution_count": null,
      "outputs": []
    },
    {
      "cell_type": "markdown",
      "source": [
        "Subtracting the set B from set A:"
      ],
      "metadata": {
        "id": "8ITH5tl32YHf"
      }
    },
    {
      "cell_type": "code",
      "source": [
        "print(B-A)"
      ],
      "metadata": {
        "id": "Y_sbQFSmAebl"
      },
      "execution_count": null,
      "outputs": []
    },
    {
      "cell_type": "markdown",
      "source": [
        "Union of two sets is performed as follows:"
      ],
      "metadata": {
        "id": "ECk3G2ae2_AI"
      }
    },
    {
      "cell_type": "code",
      "source": [
        "print(A | B)"
      ],
      "metadata": {
        "id": "KzHtV_gyBeIA"
      },
      "execution_count": null,
      "outputs": []
    },
    {
      "cell_type": "markdown",
      "source": [
        "Intersection of the two sets:"
      ],
      "metadata": {
        "id": "ObreWB0c3oaD"
      }
    },
    {
      "cell_type": "code",
      "source": [
        "print(A & B)"
      ],
      "metadata": {
        "id": "_MPSiwGbB6nU"
      },
      "execution_count": null,
      "outputs": []
    },
    {
      "cell_type": "markdown",
      "source": [
        "Converting string to Set Conversion:"
      ],
      "metadata": {
        "id": "GVtfcg6-vnyX"
      }
    },
    {
      "cell_type": "code",
      "source": [
        "A = set('Python')\n",
        "A"
      ],
      "metadata": {
        "id": "3l6qymZ_v0X6"
      },
      "execution_count": null,
      "outputs": []
    },
    {
      "cell_type": "markdown",
      "source": [
        "Converting list to set data types:"
      ],
      "metadata": {
        "id": "dkYuMpI_wJJd"
      }
    },
    {
      "cell_type": "code",
      "source": [
        "B= set([1,2,3,4,5,6])\n",
        "print(B)"
      ],
      "metadata": {
        "id": "aMStmJRowT_v"
      },
      "execution_count": null,
      "outputs": []
    },
    {
      "cell_type": "markdown",
      "source": [
        "Tuple to set"
      ],
      "metadata": {
        "id": "kGytSEL8xQzb"
      }
    },
    {
      "cell_type": "code",
      "source": [
        "C= set((1,2,3))\n",
        "print(C)"
      ],
      "metadata": {
        "id": "vlFvgYKrxPgb"
      },
      "execution_count": null,
      "outputs": []
    },
    {
      "cell_type": "markdown",
      "source": [
        "#Dictionaries"
      ],
      "metadata": {
        "id": "e0AQczU-CKMD"
      }
    },
    {
      "cell_type": "code",
      "source": [
        "A = {2221:'Manish',2222: 'Ramesh', 2223: 'Dilip'}"
      ],
      "metadata": {
        "id": "yR4BE31ZCAjB"
      },
      "execution_count": null,
      "outputs": []
    },
    {
      "cell_type": "code",
      "source": [
        "A[2223]"
      ],
      "metadata": {
        "id": "9HPAMbjEC6sa"
      },
      "execution_count": null,
      "outputs": []
    },
    {
      "cell_type": "markdown",
      "source": [
        "The elements of the dictionary can not be accessed using index. It can be illustrated with the help of following example:"
      ],
      "metadata": {
        "id": "Bdf-EbTg4HwZ"
      }
    },
    {
      "cell_type": "code",
      "source": [
        "A[0]"
      ],
      "metadata": {
        "id": "040HFI7xDt3q"
      },
      "execution_count": null,
      "outputs": []
    },
    {
      "cell_type": "code",
      "source": [
        "A[2221] = 'Ram'"
      ],
      "metadata": {
        "id": "6moWOpHEETEq"
      },
      "execution_count": null,
      "outputs": []
    },
    {
      "cell_type": "code",
      "source": [
        "A"
      ],
      "metadata": {
        "id": "pdB2gnYsEW1M"
      },
      "execution_count": null,
      "outputs": []
    },
    {
      "cell_type": "code",
      "source": [
        "A[2221]= 'Dhairya'"
      ],
      "metadata": {
        "id": "R2XaM_jcEbUx"
      },
      "execution_count": null,
      "outputs": []
    },
    {
      "cell_type": "code",
      "source": [
        "sorted(A)"
      ],
      "metadata": {
        "id": "rPvBIDsIE6Bg"
      },
      "execution_count": null,
      "outputs": []
    },
    {
      "cell_type": "markdown",
      "source": [
        "The dictionary can be created by using the function dict(). It can be illustrated as follows:"
      ],
      "metadata": {
        "id": "xsuuO82H5t1C"
      }
    },
    {
      "cell_type": "code",
      "source": [
        "dict([('Ramesh',1),('Dilip',2),('Manish',3)])"
      ],
      "metadata": {
        "id": "l_S-y_qrFKB3"
      },
      "execution_count": null,
      "outputs": []
    },
    {
      "cell_type": "markdown",
      "source": [
        "Another way to create dictionary:"
      ],
      "metadata": {
        "id": "WZEG4s5q6VoX"
      }
    },
    {
      "cell_type": "code",
      "source": [
        "{x: x**2 for x in (4,5,6)}"
      ],
      "metadata": {
        "id": "tX5JcvheGhEY"
      },
      "execution_count": null,
      "outputs": []
    },
    {
      "cell_type": "code",
      "source": [
        "A.items()"
      ],
      "metadata": {
        "id": "3-ka_SsfIxYb"
      },
      "execution_count": null,
      "outputs": []
    },
    {
      "cell_type": "markdown",
      "source": [
        "looping through dictionaries:"
      ],
      "metadata": {
        "id": "MdHAgnsJK_lE"
      }
    },
    {
      "cell_type": "code",
      "source": [
        "for id,name in A.items():\n",
        "  print(name,id)"
      ],
      "metadata": {
        "id": "mepMlb5bGxNG"
      },
      "execution_count": null,
      "outputs": []
    },
    {
      "cell_type": "markdown",
      "source": [
        "To loop over two or more sequences at same time, we can use zip function. It can be illustrated by following function:"
      ],
      "metadata": {
        "id": "j-LhMlj3LURw"
      }
    },
    {
      "cell_type": "code",
      "source": [
        "Name = ['Manish','Dilip', 'Rahul','Gaurav','Sarita']\n",
        "Salary = [20000,15000,16000,17000,18000]"
      ],
      "metadata": {
        "id": "vFrUbi4qI8X7"
      },
      "execution_count": null,
      "outputs": []
    },
    {
      "cell_type": "code",
      "source": [
        "for name,salary in zip(Name, Salary):\n",
        "  print('The salary of {0} is {1}.'.format(name,salary))"
      ],
      "metadata": {
        "id": "9NXmoxQtIelG"
      },
      "execution_count": null,
      "outputs": []
    },
    {
      "cell_type": "markdown",
      "source": [
        "Comparing Sequences:"
      ],
      "metadata": {
        "id": "SllgI6deM9NW"
      }
    },
    {
      "cell_type": "code",
      "source": [
        "[6,7,8,8] < [6,7,8,9]"
      ],
      "metadata": {
        "id": "vA549siONQez"
      },
      "execution_count": null,
      "outputs": []
    }
  ]
}