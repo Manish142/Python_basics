{
  "cells": [
    {
      "cell_type": "markdown",
      "metadata": {
        "id": "view-in-github",
        "colab_type": "text"
      },
      "source": [
        "<a href=\"https://colab.research.google.com/github/Manish142/Python_basics/blob/Edits/Python_basics_2.ipynb\" target=\"_parent\"><img src=\"https://colab.research.google.com/assets/colab-badge.svg\" alt=\"Open In Colab\"/></a>"
      ]
    },
    {
      "cell_type": "markdown",
      "source": [
        "This notebook gives the insights to conditional statements, various looping techniques like for loop, while loop, and function creation."
      ],
      "metadata": {
        "id": "SNAtKteyF7IJ"
      }
    },
    {
      "cell_type": "markdown",
      "source": [
        "# If else statements"
      ],
      "metadata": {
        "id": "KTKkdZMvDikb"
      }
    },
    {
      "cell_type": "markdown",
      "metadata": {
        "id": "--fjL9Mmul5O"
      },
      "source": [
        "Learning with **If else statements**:\n"
      ]
    },
    {
      "cell_type": "code",
      "execution_count": 1,
      "metadata": {
        "id": "0niFUKmNwUf7",
        "colab": {
          "base_uri": "https://localhost:8080/"
        },
        "outputId": "a3ac3ea2-7a14-4f83-ed79-bdd830402431"
      },
      "outputs": [
        {
          "output_type": "stream",
          "name": "stdout",
          "text": [
            "Please enter an integer:-13\n",
            "The number entered by user is negative.\n"
          ]
        }
      ],
      "source": [
        "x = int(input('Please enter an integer:')); \n",
        "if x > 0:\n",
        "  print('The number entered by user is positive');\n",
        "elif x == 0:\n",
        "  print('The number entered by user is zero');\n",
        "else:\n",
        "  print('The number entered by user is negative.');"
      ]
    },
    {
      "cell_type": "markdown",
      "source": [
        ""
      ],
      "metadata": {
        "id": "JhjVPkJqGarC"
      }
    },
    {
      "cell_type": "markdown",
      "source": [
        "# Looping techniques"
      ],
      "metadata": {
        "id": "orhi-AaZEowS"
      }
    },
    {
      "cell_type": "markdown",
      "metadata": {
        "id": "eLq_4-eku1nl"
      },
      "source": [
        "##for loop"
      ]
    },
    {
      "cell_type": "code",
      "execution_count": null,
      "metadata": {
        "id": "bQXdkOPsy8wC"
      },
      "outputs": [],
      "source": [
        "Students = ['Garima', 'Dilip', 'Rahul']\n",
        "for n in Students:\n",
        "    print(n, 'is a student of AI class.')"
      ]
    },
    {
      "cell_type": "markdown",
      "metadata": {
        "id": "p8V3tJrfzqDR"
      },
      "source": [
        "The range function is also used with the for looping through the loop,which is illustared by the examples:"
      ]
    },
    {
      "cell_type": "code",
      "execution_count": null,
      "metadata": {
        "id": "3Yw2zpR9zaTu"
      },
      "outputs": [],
      "source": [
        "for i in range(10):\n",
        "  print(i)"
      ]
    },
    {
      "cell_type": "code",
      "execution_count": 7,
      "metadata": {
        "colab": {
          "base_uri": "https://localhost:8080/"
        },
        "id": "5g9tJX2A0Me-",
        "outputId": "c91c7c88-c334-46e7-87dc-25b9d420806b"
      },
      "outputs": [
        {
          "output_type": "execute_result",
          "data": {
            "text/plain": [
              "[0, 1, 2, 3, 4, 5, 6, 7, 8, 9, 10, 11, 12, 13, 14, 15]"
            ]
          },
          "metadata": {},
          "execution_count": 7
        }
      ],
      "source": [
        "list(range(16))"
      ]
    },
    {
      "cell_type": "code",
      "execution_count": 8,
      "metadata": {
        "colab": {
          "base_uri": "https://localhost:8080/"
        },
        "id": "NDeeQO6a1JTR",
        "outputId": "0e3d377c-a83c-48bd-d8b1-2ce33bd55a6a"
      },
      "outputs": [
        {
          "output_type": "execute_result",
          "data": {
            "text/plain": [
              "[3, 4, 5, 6, 7, 8, 9, 10, 11, 12, 13, 14, 15]"
            ]
          },
          "metadata": {},
          "execution_count": 8
        }
      ],
      "source": [
        "list(range(3,16))"
      ]
    },
    {
      "cell_type": "markdown",
      "source": [
        "The following example prints the number varying from -4 to 8 with constant the constant interval of 2:"
      ],
      "metadata": {
        "id": "nErFkNSbCHUW"
      }
    },
    {
      "cell_type": "code",
      "execution_count": 9,
      "metadata": {
        "colab": {
          "base_uri": "https://localhost:8080/"
        },
        "id": "12VHlodT1Rup",
        "outputId": "7d45259d-a031-4efb-8af5-aa9936b72816"
      },
      "outputs": [
        {
          "output_type": "execute_result",
          "data": {
            "text/plain": [
              "[-4, -2, 0, 2, 4, 6]"
            ]
          },
          "metadata": {},
          "execution_count": 9
        }
      ],
      "source": [
        "list(range(-4,8,2))"
      ]
    },
    {
      "cell_type": "code",
      "execution_count": 10,
      "metadata": {
        "colab": {
          "base_uri": "https://localhost:8080/"
        },
        "id": "itjODYVL140V",
        "outputId": "bb155e2b-93be-44fc-ac05-4bd7063773bc"
      },
      "outputs": [
        {
          "output_type": "stream",
          "name": "stdout",
          "text": [
            "Garima is the student of AI class.\n",
            "Dilip is the student of AI class.\n",
            "Rahul is the student of AI class.\n"
          ]
        }
      ],
      "source": [
        "for i in range(len(Students)):\n",
        "  print(Students[i], 'is the student of AI class.')  # printing the every element of the list."
      ]
    },
    {
      "cell_type": "code",
      "execution_count": 11,
      "metadata": {
        "id": "UfxlsN5EzCJ3"
      },
      "outputs": [],
      "source": [
        "for i in range(len(Students)):\n",
        "  if Students[i] == 'Hritik':\n",
        "     print(Students[i], 'is the student of AI class.')"
      ]
    },
    {
      "cell_type": "markdown",
      "source": [
        "##while loop"
      ],
      "metadata": {
        "id": "0L8vTuUyEwe_"
      }
    },
    {
      "cell_type": "markdown",
      "metadata": {
        "id": "t5PdME90JwoN"
      },
      "source": [
        "**Learning with while loop.**"
      ]
    },
    {
      "cell_type": "code",
      "execution_count": null,
      "metadata": {
        "id": "n-crqIY9AAyz"
      },
      "outputs": [],
      "source": [
        "a=0\n",
        "while a <= 20:\n",
        "  a=a+1 \n",
        "  print(a)"
      ]
    },
    {
      "cell_type": "code",
      "execution_count": null,
      "metadata": {
        "id": "Svr3yvTBDNgi"
      },
      "outputs": [],
      "source": [
        "while True:\n",
        "    pass"
      ]
    },
    {
      "cell_type": "markdown",
      "metadata": {
        "id": "Qobs4JVHKh_C"
      },
      "source": [
        "**Fibonacci numbers:**"
      ]
    },
    {
      "cell_type": "code",
      "execution_count": 14,
      "metadata": {
        "colab": {
          "base_uri": "https://localhost:8080/"
        },
        "id": "UtUFpbTzrFEa",
        "outputId": "9a99a6b0-a47e-400f-b91f-16556be30fa3"
      },
      "outputs": [
        {
          "output_type": "stream",
          "name": "stdout",
          "text": [
            "0,1,1,2,3,5,8,13,21,"
          ]
        }
      ],
      "source": [
        "a, b = 0, 1;\n",
        "while a < 25:\n",
        "  print(a,end= ',');\n",
        "  a,b = b,a+b; "
      ]
    },
    {
      "cell_type": "markdown",
      "source": [
        "# Function creation"
      ],
      "metadata": {
        "id": "cnX9JZfaFD0o"
      }
    },
    {
      "cell_type": "markdown",
      "metadata": {
        "id": "ZpYNggghRIqy"
      },
      "source": [
        "**Function Creation and its application in Python**\n",
        "\n",
        "The keyword 'def' is used to introduce the function definition.\n"
      ]
    },
    {
      "cell_type": "code",
      "execution_count": 15,
      "metadata": {
        "id": "epG8WrkjRTsj"
      },
      "outputs": [],
      "source": [
        "def hello(name):                # Hello function\n",
        "  print('Hello!', name, 'welcome to the class of function creation and its application');"
      ]
    },
    {
      "cell_type": "markdown",
      "source": [
        "Let us call the function 'hello' by passing the arguement through this function."
      ],
      "metadata": {
        "id": "6G9PDuuAIGq1"
      }
    },
    {
      "cell_type": "code",
      "execution_count": 16,
      "metadata": {
        "colab": {
          "base_uri": "https://localhost:8080/"
        },
        "id": "vpuzP4wpRcRL",
        "outputId": "d6cb07d5-a882-4ed9-b9e1-66a3dad2582d"
      },
      "outputs": [
        {
          "output_type": "stream",
          "name": "stdout",
          "text": [
            "Hello! Samita welcome to the class of function creation and its application\n"
          ]
        }
      ],
      "source": [
        "a = 'Samita'\n",
        "hello(a)"
      ]
    },
    {
      "cell_type": "code",
      "execution_count": 17,
      "metadata": {
        "id": "AChntGdTaPQK"
      },
      "outputs": [],
      "source": [
        "b= 'Manish' "
      ]
    },
    {
      "cell_type": "markdown",
      "source": [
        "**Write a function for fibonacci series up to n**"
      ],
      "metadata": {
        "id": "L--M0cp8IiCu"
      }
    },
    {
      "cell_type": "code",
      "execution_count": 19,
      "metadata": {
        "id": "h1YGaPu2RxnL"
      },
      "outputs": [],
      "source": [
        "# The function starts with the keyword def. \n",
        "def fib(n):                      # Input (parameter) is placed inside the parathensis, here it is 'n'\n",
        "  a, b = 0,1;                     \n",
        "  while a < n:\n",
        "    print(a,end= ',');\n",
        "    a, b = b, a+b;"
      ]
    },
    {
      "cell_type": "markdown",
      "metadata": {
        "id": "z8kgb_Q_R9uh"
      },
      "source": [
        "**Let us call the function fib.**"
      ]
    },
    {
      "cell_type": "code",
      "execution_count": 20,
      "metadata": {
        "colab": {
          "base_uri": "https://localhost:8080/"
        },
        "id": "ZROkHTZWSAIq",
        "outputId": "a811d819-65c3-49ce-f3c8-478f1deb0b6e"
      },
      "outputs": [
        {
          "output_type": "stream",
          "name": "stdout",
          "text": [
            "0,1,1,2,3,5,8,13,21,"
          ]
        }
      ],
      "source": [
        "fib(30)"
      ]
    },
    {
      "cell_type": "code",
      "execution_count": 21,
      "metadata": {
        "id": "uGm8L2AMSPVK"
      },
      "outputs": [],
      "source": [
        "f = fib;"
      ]
    },
    {
      "cell_type": "code",
      "execution_count": 22,
      "metadata": {
        "colab": {
          "base_uri": "https://localhost:8080/"
        },
        "id": "phIpsAoCSR5l",
        "outputId": "d902ba61-0949-4d3b-b2cd-14735b20dd12"
      },
      "outputs": [
        {
          "output_type": "stream",
          "name": "stdout",
          "text": [
            "0,1,1,2,3,5,8,None\n"
          ]
        }
      ],
      "source": [
        "print(f(10))       # Functions without return statement also return (None)"
      ]
    },
    {
      "cell_type": "markdown",
      "metadata": {
        "id": "6Bq6fLVuRPcU"
      },
      "source": [
        "**Function with return value**"
      ]
    },
    {
      "cell_type": "markdown",
      "source": [
        "The variable (to be returned) can be returned by placing the value of variable along with return statement."
      ],
      "metadata": {
        "id": "5Lk2PUdfJjU4"
      }
    },
    {
      "cell_type": "code",
      "execution_count": null,
      "metadata": {
        "id": "7SP65giISuPk"
      },
      "outputs": [],
      "source": [
        "def fib3(n):                   # Defining the function\n",
        "    result = []                # Declare the list value as empty list\n",
        "    a, b = 0, 1\n",
        "    while a < n:\n",
        "        result.append(a)           \n",
        "        a, b = b, a+b\n",
        "    return result              # Result is returned when the function is called"
      ]
    },
    {
      "cell_type": "code",
      "execution_count": null,
      "metadata": {
        "colab": {
          "base_uri": "https://localhost:8080/"
        },
        "id": "gjlxqWZuSyNs",
        "outputId": "f5698b06-5d7d-47e6-b75d-adadd1e73c15"
      },
      "outputs": [
        {
          "data": {
            "text/plain": [
              "[0, 1, 1, 2, 3, 5, 8, 13, 21, 34]"
            ]
          },
          "execution_count": 21,
          "metadata": {},
          "output_type": "execute_result"
        }
      ],
      "source": [
        "fib3(40)"
      ]
    },
    {
      "cell_type": "code",
      "execution_count": null,
      "metadata": {
        "colab": {
          "base_uri": "https://localhost:8080/"
        },
        "id": "LnKv9vumS2is",
        "outputId": "9ac90f78-5141-404b-c00b-18c9715a9cb0"
      },
      "outputs": [
        {
          "name": "stdout",
          "output_type": "stream",
          "text": [
            "[0, 1, 1, 2, 3, 5, 8, 13, 21, 34]\n"
          ]
        }
      ],
      "source": [
        "print(fib3(40))"
      ]
    },
    {
      "cell_type": "markdown",
      "source": [
        "The variable number of arguements can also be passed through the function. The following example illustrates the function with varialbe number of arguements:"
      ],
      "metadata": {
        "id": "gbnHCe_QJ68C"
      }
    },
    {
      "cell_type": "code",
      "execution_count": 23,
      "metadata": {
        "id": "rwe-5J0YZ4YI"
      },
      "outputs": [],
      "source": [
        "def ask(prompt,retries=4,reminder='Please try again!'):    # Atleast one arguement is required\n",
        "    while True:\n",
        "        ok = input(prompt)                       # The purpose of input is take the input from the user through keyboard\n",
        "        if ok in ('y', 'ye', 'yes'):             # The purpose of 'x in y' is to check weather x is substring of y.\n",
        "            return True\n",
        "        if ok in ('n', 'no', 'nop', 'nope'):\n",
        "            return False\n",
        "        retries = retries - 1\n",
        "        if retries < 0:\n",
        "            raise ValueError('invalid user response')\n",
        "        print(reminder)"
      ]
    },
    {
      "cell_type": "code",
      "execution_count": 24,
      "metadata": {
        "id": "d_nQe02uaGt9",
        "colab": {
          "base_uri": "https://localhost:8080/"
        },
        "outputId": "59bc09db-7616-4be7-f1fc-0cbf9195ffee"
      },
      "outputs": [
        {
          "name": "stdout",
          "output_type": "stream",
          "text": [
            "Do you like Python ?y\n"
          ]
        },
        {
          "output_type": "execute_result",
          "data": {
            "text/plain": [
              "True"
            ]
          },
          "metadata": {},
          "execution_count": 24
        }
      ],
      "source": [
        "ask('Do you like Python ?')"
      ]
    },
    {
      "cell_type": "code",
      "execution_count": null,
      "metadata": {
        "id": "ZxOhUj_0amd3"
      },
      "outputs": [],
      "source": [
        "ask('Do you want to Study?')"
      ]
    },
    {
      "cell_type": "code",
      "execution_count": null,
      "metadata": {
        "id": "Ghmp90tibKCB"
      },
      "outputs": [],
      "source": [
        "ask('Do you want to Study?',retries=2)"
      ]
    },
    {
      "cell_type": "code",
      "execution_count": null,
      "metadata": {
        "id": "3u_oi5Jxdlrj"
      },
      "outputs": [],
      "source": [
        "r1 = 10;\n",
        "def f(arg = r1):\n",
        "  print(arg);\n",
        "  "
      ]
    },
    {
      "cell_type": "code",
      "source": [
        "r3= 500\n",
        "f(r3)"
      ],
      "metadata": {
        "id": "F-NT1_HGXWLB"
      },
      "execution_count": null,
      "outputs": []
    }
  ],
  "metadata": {
    "colab": {
      "collapsed_sections": [],
      "name": "Python_basics_2.ipynb",
      "provenance": [],
      "toc_visible": true,
      "include_colab_link": true
    },
    "kernelspec": {
      "display_name": "Python 3",
      "name": "python3"
    },
    "language_info": {
      "name": "python"
    }
  },
  "nbformat": 4,
  "nbformat_minor": 0
}