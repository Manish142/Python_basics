{
  "cells": [
    {
      "cell_type": "markdown",
      "metadata": {
        "id": "view-in-github",
        "colab_type": "text"
      },
      "source": [
        "<a href=\"https://colab.research.google.com/github/Manish142/Python_basics/blob/main/Python_basics_2.ipynb\" target=\"_parent\"><img src=\"https://colab.research.google.com/assets/colab-badge.svg\" alt=\"Open In Colab\"/></a>"
      ]
    },
    {
      "cell_type": "markdown",
      "metadata": {
        "id": "--fjL9Mmul5O"
      },
      "source": [
        "Learning with **If else statements**:\n"
      ]
    },
    {
      "cell_type": "code",
      "execution_count": null,
      "metadata": {
        "colab": {
          "base_uri": "https://localhost:8080/"
        },
        "id": "0niFUKmNwUf7",
        "outputId": "5a791f5b-a4f9-48db-9c63-5dc1ed4bac1c"
      },
      "outputs": [
        {
          "name": "stdout",
          "output_type": "stream",
          "text": [
            "Please enter an integer:20\n",
            "The number entered by user is negative.\n"
          ]
        }
      ],
      "source": [
        "x = int(input('Please enter an integer:')); \n",
        "if x < 0:\n",
        "  print('The number entered by user is positive');\n",
        "elif x == 0:\n",
        "  print('The number entered by user is zero');\n",
        "else:\n",
        "  print('The number entered by user is negative.');"
      ]
    },
    {
      "cell_type": "markdown",
      "metadata": {
        "id": "eLq_4-eku1nl"
      },
      "source": [
        "for loop"
      ]
    },
    {
      "cell_type": "code",
      "execution_count": null,
      "metadata": {
        "id": "ZFbpO71uyvFp"
      },
      "outputs": [],
      "source": [
        "Students = ['Manish', 'Dilip', 'Rahul']"
      ]
    },
    {
      "cell_type": "code",
      "execution_count": null,
      "metadata": {
        "colab": {
          "base_uri": "https://localhost:8080/"
        },
        "id": "bQXdkOPsy8wC",
        "outputId": "944ec95f-d1ee-43c2-cb50-fb76bf505f1a"
      },
      "outputs": [
        {
          "name": "stdout",
          "output_type": "stream",
          "text": [
            "Manish is a student of AI class.\n",
            "Dilip is a student of AI class.\n",
            "Rahul is a student of AI class.\n"
          ]
        }
      ],
      "source": [
        "for n in Students:\n",
        "    print(n, 'is a student of AI class.')"
      ]
    },
    {
      "cell_type": "markdown",
      "metadata": {
        "id": "p8V3tJrfzqDR"
      },
      "source": [
        "The **range function**:"
      ]
    },
    {
      "cell_type": "code",
      "execution_count": null,
      "metadata": {
        "colab": {
          "base_uri": "https://localhost:8080/"
        },
        "id": "3Yw2zpR9zaTu",
        "outputId": "43bbcab9-1ca8-4a9e-ebd9-9f55d1f79499"
      },
      "outputs": [
        {
          "name": "stdout",
          "output_type": "stream",
          "text": [
            "0\n",
            "1\n",
            "2\n",
            "3\n",
            "4\n",
            "5\n",
            "6\n",
            "7\n",
            "8\n",
            "9\n"
          ]
        }
      ],
      "source": [
        "for i in range(10):\n",
        "  print(i)"
      ]
    },
    {
      "cell_type": "code",
      "execution_count": null,
      "metadata": {
        "colab": {
          "base_uri": "https://localhost:8080/"
        },
        "id": "5g9tJX2A0Me-",
        "outputId": "113704d3-64ab-42ac-f031-427ae1d1d9fb"
      },
      "outputs": [
        {
          "data": {
            "text/plain": [
              "[0, 1, 2, 3, 4, 5, 6, 7, 8, 9, 10, 11, 12, 13, 14, 15]"
            ]
          },
          "execution_count": 7,
          "metadata": {},
          "output_type": "execute_result"
        }
      ],
      "source": [
        "list(range(16))"
      ]
    },
    {
      "cell_type": "code",
      "execution_count": null,
      "metadata": {
        "colab": {
          "base_uri": "https://localhost:8080/"
        },
        "id": "NDeeQO6a1JTR",
        "outputId": "7861ec10-6eb2-4dc1-b044-a676d613191b"
      },
      "outputs": [
        {
          "data": {
            "text/plain": [
              "[3, 4, 5, 6, 7, 8, 9, 10, 11, 12, 13, 14, 15]"
            ]
          },
          "execution_count": 8,
          "metadata": {},
          "output_type": "execute_result"
        }
      ],
      "source": [
        "list(range(3,16))"
      ]
    },
    {
      "cell_type": "code",
      "execution_count": null,
      "metadata": {
        "colab": {
          "base_uri": "https://localhost:8080/"
        },
        "id": "12VHlodT1Rup",
        "outputId": "0e9d3ce7-f88f-42c8-f4dc-615e57727aad"
      },
      "outputs": [
        {
          "data": {
            "text/plain": [
              "[-4, -2, 0, 2, 4, 6]"
            ]
          },
          "execution_count": 9,
          "metadata": {},
          "output_type": "execute_result"
        }
      ],
      "source": [
        "list(range(-4,8,2))"
      ]
    },
    {
      "cell_type": "code",
      "execution_count": null,
      "metadata": {
        "colab": {
          "base_uri": "https://localhost:8080/"
        },
        "id": "itjODYVL140V",
        "outputId": "17bd63bf-d5a4-44da-c76b-8c376c8d8e48"
      },
      "outputs": [
        {
          "name": "stdout",
          "output_type": "stream",
          "text": [
            "Manish is the student of AI class.\n",
            "Dilip is the student of AI class.\n",
            "Rahul is the student of AI class.\n"
          ]
        }
      ],
      "source": [
        "for i in range(len(Students)):\n",
        "  print(Students[i], 'is the student of AI class.')"
      ]
    },
    {
      "cell_type": "code",
      "execution_count": null,
      "metadata": {
        "id": "UfxlsN5EzCJ3"
      },
      "outputs": [],
      "source": [
        "for i in range(len(Students)):\n",
        "  if Students[i] == 'Manish':\n",
        "     print(Students[i], 'is the student of AI class.')"
      ]
    },
    {
      "cell_type": "markdown",
      "metadata": {
        "id": "t5PdME90JwoN"
      },
      "source": [
        "**Learning with while loop.**"
      ]
    },
    {
      "cell_type": "code",
      "execution_count": null,
      "metadata": {
        "colab": {
          "base_uri": "https://localhost:8080/"
        },
        "id": "n-crqIY9AAyz",
        "outputId": "aae82985-6833-43c4-ab3f-b87fa860b5d2"
      },
      "outputs": [
        {
          "name": "stdout",
          "output_type": "stream",
          "text": [
            "1\n",
            "2\n",
            "3\n",
            "4\n",
            "5\n",
            "6\n",
            "7\n",
            "8\n",
            "9\n",
            "10\n",
            "11\n",
            "12\n",
            "13\n",
            "14\n",
            "15\n",
            "16\n",
            "17\n",
            "18\n",
            "19\n",
            "20\n",
            "21\n"
          ]
        }
      ],
      "source": [
        "a=0\n",
        "while a <= 20:\n",
        "  a=a+1 \n",
        "  print(a)\n",
        " "
      ]
    },
    {
      "cell_type": "code",
      "execution_count": null,
      "metadata": {
        "colab": {
          "base_uri": "https://localhost:8080/",
          "height": 200
        },
        "id": "Svr3yvTBDNgi",
        "outputId": "ad66d921-c8ed-44a3-b767-c2e0b68428ee"
      },
      "outputs": [
        {
          "ename": "KeyboardInterrupt",
          "evalue": "ignored",
          "output_type": "error",
          "traceback": [
            "\u001b[0;31m---------------------------------------------------------------------------\u001b[0m",
            "\u001b[0;31mKeyboardInterrupt\u001b[0m                         Traceback (most recent call last)",
            "\u001b[0;32m<ipython-input-3-8a732d7ae385>\u001b[0m in \u001b[0;36m<module>\u001b[0;34m()\u001b[0m\n\u001b[1;32m      1\u001b[0m \u001b[0;32mwhile\u001b[0m \u001b[0;32mTrue\u001b[0m\u001b[0;34m:\u001b[0m\u001b[0;34m\u001b[0m\u001b[0;34m\u001b[0m\u001b[0m\n\u001b[0;32m----> 2\u001b[0;31m     \u001b[0;32mpass\u001b[0m\u001b[0;34m\u001b[0m\u001b[0;34m\u001b[0m\u001b[0m\n\u001b[0m\u001b[1;32m      3\u001b[0m \u001b[0;34m\u001b[0m\u001b[0m\n",
            "\u001b[0;31mKeyboardInterrupt\u001b[0m: "
          ]
        }
      ],
      "source": [
        "  while True:\n",
        "      pass\n",
        "      \n",
        "    "
      ]
    },
    {
      "cell_type": "markdown",
      "metadata": {
        "id": "Qobs4JVHKh_C"
      },
      "source": [
        "**Fibonacci numbers:**"
      ]
    },
    {
      "cell_type": "code",
      "execution_count": null,
      "metadata": {
        "colab": {
          "base_uri": "https://localhost:8080/"
        },
        "id": "UtUFpbTzrFEa",
        "outputId": "dda6bf0a-43f9-4fa0-bc5a-fcd1fb482531"
      },
      "outputs": [
        {
          "name": "stdout",
          "output_type": "stream",
          "text": [
            "0,1,1,2,3,5,8,13,21,"
          ]
        }
      ],
      "source": [
        "a, b = 0, 1;\n",
        "while a < 25:\n",
        "  print(a,end= ',');\n",
        "  a,b = b,a+b; \n",
        "  "
      ]
    },
    {
      "cell_type": "markdown",
      "metadata": {
        "id": "ZpYNggghRIqy"
      },
      "source": [
        "**Function Creation and its application in Python**\n",
        "\n",
        "Defining functions\n",
        "The keyword 'def' is used to introduce the function definition.\n"
      ]
    },
    {
      "cell_type": "code",
      "execution_count": null,
      "metadata": {
        "id": "epG8WrkjRTsj"
      },
      "outputs": [],
      "source": [
        "def hello(name):                # Hello function\n",
        "  print('Hello!', name, 'welcome to the class of function creation and its application');"
      ]
    },
    {
      "cell_type": "code",
      "execution_count": null,
      "metadata": {
        "colab": {
          "base_uri": "https://localhost:8080/"
        },
        "id": "vpuzP4wpRcRL",
        "outputId": "37dcda50-5e7b-4710-c173-628fe42bae09"
      },
      "outputs": [
        {
          "name": "stdout",
          "output_type": "stream",
          "text": [
            "Hello! Samita welcome to the class of function creation and its application\n"
          ]
        }
      ],
      "source": [
        "a = 'Samita'\n",
        "hello(a)"
      ]
    },
    {
      "cell_type": "code",
      "execution_count": null,
      "metadata": {
        "id": "AChntGdTaPQK"
      },
      "outputs": [],
      "source": [
        "b= 'Manish' "
      ]
    },
    {
      "cell_type": "code",
      "execution_count": null,
      "metadata": {
        "id": "h1YGaPu2RxnL"
      },
      "outputs": [],
      "source": [
        "# Write a function for fibonacci series up to n\n",
        "# The function starts with the keyword def. \n",
        "def fib(n):                      # Input (parameter) is placed inside the parathensis, here it is 'n'\n",
        "  a, b = 0,1;                     \n",
        "  while a < n:\n",
        "    print(a,end= ',');\n",
        "    a, b = b, a+b;"
      ]
    },
    {
      "cell_type": "markdown",
      "metadata": {
        "id": "z8kgb_Q_R9uh"
      },
      "source": [
        "Let us call the function fib."
      ]
    },
    {
      "cell_type": "code",
      "execution_count": null,
      "metadata": {
        "colab": {
          "base_uri": "https://localhost:8080/"
        },
        "id": "ZROkHTZWSAIq",
        "outputId": "f339f8ca-599f-4556-979e-e34c5b6f6eb4"
      },
      "outputs": [
        {
          "name": "stdout",
          "output_type": "stream",
          "text": [
            "0,1,1,2,3,5,8,13,21,"
          ]
        }
      ],
      "source": [
        "fib(30)"
      ]
    },
    {
      "cell_type": "code",
      "execution_count": null,
      "metadata": {
        "id": "uGm8L2AMSPVK"
      },
      "outputs": [],
      "source": [
        "f = fib;"
      ]
    },
    {
      "cell_type": "code",
      "execution_count": null,
      "metadata": {
        "colab": {
          "base_uri": "https://localhost:8080/"
        },
        "id": "phIpsAoCSR5l",
        "outputId": "d58d6a8c-792d-4a70-83c1-1342ad8d4440"
      },
      "outputs": [
        {
          "name": "stdout",
          "output_type": "stream",
          "text": [
            "0,1,1,2,3,5,8,None\n"
          ]
        }
      ],
      "source": [
        "print(f(10))       # Functions without return statement also return (None)"
      ]
    },
    {
      "cell_type": "markdown",
      "metadata": {
        "id": "6Bq6fLVuRPcU"
      },
      "source": [
        "Function with return value."
      ]
    },
    {
      "cell_type": "code",
      "execution_count": null,
      "metadata": {
        "id": "7SP65giISuPk"
      },
      "outputs": [],
      "source": [
        "def fib3(n):                   # Defining the function\n",
        "    result = []                # Declare the list value as empty list\n",
        "    a, b = 0, 1\n",
        "    while a < n:\n",
        "        result.append(a)           \n",
        "        a, b = b, a+b\n",
        "    return result              # Result is returned when the function is called"
      ]
    },
    {
      "cell_type": "code",
      "execution_count": null,
      "metadata": {
        "colab": {
          "base_uri": "https://localhost:8080/"
        },
        "id": "gjlxqWZuSyNs",
        "outputId": "f5698b06-5d7d-47e6-b75d-adadd1e73c15"
      },
      "outputs": [
        {
          "data": {
            "text/plain": [
              "[0, 1, 1, 2, 3, 5, 8, 13, 21, 34]"
            ]
          },
          "execution_count": 21,
          "metadata": {},
          "output_type": "execute_result"
        }
      ],
      "source": [
        "fib3(40)"
      ]
    },
    {
      "cell_type": "code",
      "execution_count": null,
      "metadata": {
        "colab": {
          "base_uri": "https://localhost:8080/"
        },
        "id": "LnKv9vumS2is",
        "outputId": "9ac90f78-5141-404b-c00b-18c9715a9cb0"
      },
      "outputs": [
        {
          "name": "stdout",
          "output_type": "stream",
          "text": [
            "[0, 1, 1, 2, 3, 5, 8, 13, 21, 34]\n"
          ]
        }
      ],
      "source": [
        "print(fib3(40))"
      ]
    },
    {
      "cell_type": "code",
      "execution_count": null,
      "metadata": {
        "id": "rwe-5J0YZ4YI"
      },
      "outputs": [],
      "source": [
        "def ask(prompt,retries=4,reminder='Please try again!'):    # Atleast one arguement is required\n",
        "    while True:\n",
        "        ok = input(prompt)                       # The purpose of input is take the input from the user through keyboard\n",
        "        if ok in ('y', 'ye', 'yes'):             # The purpose of 'x in y' is to check weather x is substring of y.\n",
        "            return True\n",
        "        if ok in ('n', 'no', 'nop', 'nope'):\n",
        "            return False\n",
        "        retries = retries - 1\n",
        "        if retries < 0:\n",
        "            raise ValueError('invalid user response')\n",
        "        print(reminder)"
      ]
    },
    {
      "cell_type": "code",
      "execution_count": null,
      "metadata": {
        "colab": {
          "base_uri": "https://localhost:8080/",
          "height": 426
        },
        "id": "d_nQe02uaGt9",
        "outputId": "0fe87e39-6a6c-48d9-b394-2478df22d7bb"
      },
      "outputs": [
        {
          "name": "stdout",
          "output_type": "stream",
          "text": [
            "Do you like Python ?uju\n",
            "Please try again!\n",
            "Do you like Python ?juj\n",
            "Please try again!\n",
            "Do you like Python ?kj\n",
            "Please try again!\n",
            "Do you like Python ?li\n",
            "Please try again!\n",
            "Do you like Python ?hy\n"
          ]
        },
        {
          "output_type": "error",
          "ename": "ValueError",
          "evalue": "ignored",
          "traceback": [
            "\u001b[0;31m---------------------------------------------------------------------------\u001b[0m",
            "\u001b[0;31mValueError\u001b[0m                                Traceback (most recent call last)",
            "\u001b[0;32m<ipython-input-4-fecc63f28c86>\u001b[0m in \u001b[0;36m<module>\u001b[0;34m()\u001b[0m\n\u001b[0;32m----> 1\u001b[0;31m \u001b[0mask\u001b[0m\u001b[0;34m(\u001b[0m\u001b[0;34m'Do you like Python ?'\u001b[0m\u001b[0;34m)\u001b[0m\u001b[0;34m\u001b[0m\u001b[0;34m\u001b[0m\u001b[0m\n\u001b[0m",
            "\u001b[0;32m<ipython-input-1-4b4f20d28d47>\u001b[0m in \u001b[0;36mask\u001b[0;34m(prompt, retries, reminder)\u001b[0m\n\u001b[1;32m      8\u001b[0m         \u001b[0mretries\u001b[0m \u001b[0;34m=\u001b[0m \u001b[0mretries\u001b[0m \u001b[0;34m-\u001b[0m \u001b[0;36m1\u001b[0m\u001b[0;34m\u001b[0m\u001b[0;34m\u001b[0m\u001b[0m\n\u001b[1;32m      9\u001b[0m         \u001b[0;32mif\u001b[0m \u001b[0mretries\u001b[0m \u001b[0;34m<\u001b[0m \u001b[0;36m0\u001b[0m\u001b[0;34m:\u001b[0m\u001b[0;34m\u001b[0m\u001b[0;34m\u001b[0m\u001b[0m\n\u001b[0;32m---> 10\u001b[0;31m             \u001b[0;32mraise\u001b[0m \u001b[0mValueError\u001b[0m\u001b[0;34m(\u001b[0m\u001b[0;34m'invalid user response'\u001b[0m\u001b[0;34m)\u001b[0m\u001b[0;34m\u001b[0m\u001b[0;34m\u001b[0m\u001b[0m\n\u001b[0m\u001b[1;32m     11\u001b[0m         \u001b[0mprint\u001b[0m\u001b[0;34m(\u001b[0m\u001b[0mreminder\u001b[0m\u001b[0;34m)\u001b[0m\u001b[0;34m\u001b[0m\u001b[0;34m\u001b[0m\u001b[0m\n",
            "\u001b[0;31mValueError\u001b[0m: invalid user response"
          ]
        }
      ],
      "source": [
        "ask('Do you like Python ?')"
      ]
    },
    {
      "cell_type": "code",
      "execution_count": null,
      "metadata": {
        "colab": {
          "base_uri": "https://localhost:8080/"
        },
        "id": "ZxOhUj_0amd3",
        "outputId": "b96196ef-d561-47d4-da87-6fe7bdc993be"
      },
      "outputs": [
        {
          "name": "stdout",
          "output_type": "stream",
          "text": [
            "Do you want to Study?ji\n",
            "Please try again!\n",
            "Do you want to Study?definately\n",
            "Do you want to Study?bilkul\n",
            "Please try again!\n",
            "Please try again!\n",
            "Do you want to Study?yes\n"
          ]
        },
        {
          "data": {
            "text/plain": [
              "True"
            ]
          },
          "execution_count": 3,
          "metadata": {},
          "output_type": "execute_result"
        }
      ],
      "source": [
        "ask('Do you want to Study?')"
      ]
    },
    {
      "cell_type": "code",
      "execution_count": null,
      "metadata": {
        "colab": {
          "base_uri": "https://localhost:8080/",
          "height": 356
        },
        "id": "Ghmp90tibKCB",
        "outputId": "87be6ad2-252a-4fcf-afcb-6f8bb84bc185"
      },
      "outputs": [
        {
          "name": "stdout",
          "output_type": "stream",
          "text": [
            "Do you want to Study?def\n",
            "Please try again!\n",
            "Do you want to Study?clc\n",
            "Please try again!\n",
            "Do you want to Study?th\n"
          ]
        },
        {
          "output_type": "error",
          "ename": "ValueError",
          "evalue": "ignored",
          "traceback": [
            "\u001b[0;31m---------------------------------------------------------------------------\u001b[0m",
            "\u001b[0;31mValueError\u001b[0m                                Traceback (most recent call last)",
            "\u001b[0;32m<ipython-input-5-02e41e38467e>\u001b[0m in \u001b[0;36m<module>\u001b[0;34m()\u001b[0m\n\u001b[0;32m----> 1\u001b[0;31m \u001b[0mask\u001b[0m\u001b[0;34m(\u001b[0m\u001b[0;34m'Do you want to Study?'\u001b[0m\u001b[0;34m,\u001b[0m\u001b[0mretries\u001b[0m\u001b[0;34m=\u001b[0m\u001b[0;36m2\u001b[0m\u001b[0;34m)\u001b[0m\u001b[0;34m\u001b[0m\u001b[0;34m\u001b[0m\u001b[0m\n\u001b[0m",
            "\u001b[0;32m<ipython-input-1-4b4f20d28d47>\u001b[0m in \u001b[0;36mask\u001b[0;34m(prompt, retries, reminder)\u001b[0m\n\u001b[1;32m      8\u001b[0m         \u001b[0mretries\u001b[0m \u001b[0;34m=\u001b[0m \u001b[0mretries\u001b[0m \u001b[0;34m-\u001b[0m \u001b[0;36m1\u001b[0m\u001b[0;34m\u001b[0m\u001b[0;34m\u001b[0m\u001b[0m\n\u001b[1;32m      9\u001b[0m         \u001b[0;32mif\u001b[0m \u001b[0mretries\u001b[0m \u001b[0;34m<\u001b[0m \u001b[0;36m0\u001b[0m\u001b[0;34m:\u001b[0m\u001b[0;34m\u001b[0m\u001b[0;34m\u001b[0m\u001b[0m\n\u001b[0;32m---> 10\u001b[0;31m             \u001b[0;32mraise\u001b[0m \u001b[0mValueError\u001b[0m\u001b[0;34m(\u001b[0m\u001b[0;34m'invalid user response'\u001b[0m\u001b[0;34m)\u001b[0m\u001b[0;34m\u001b[0m\u001b[0;34m\u001b[0m\u001b[0m\n\u001b[0m\u001b[1;32m     11\u001b[0m         \u001b[0mprint\u001b[0m\u001b[0;34m(\u001b[0m\u001b[0mreminder\u001b[0m\u001b[0;34m)\u001b[0m\u001b[0;34m\u001b[0m\u001b[0;34m\u001b[0m\u001b[0m\n",
            "\u001b[0;31mValueError\u001b[0m: invalid user response"
          ]
        }
      ],
      "source": [
        "ask('Do you want to Study?',retries=2)"
      ]
    },
    {
      "cell_type": "code",
      "execution_count": null,
      "metadata": {
        "id": "3u_oi5Jxdlrj"
      },
      "outputs": [],
      "source": [
        "r1 = 10;\n",
        "def f(arg = r1):\n",
        "  print(arg);\n",
        "  "
      ]
    },
    {
      "cell_type": "code",
      "source": [
        "r3= 500\n",
        "f(r3)"
      ],
      "metadata": {
        "colab": {
          "base_uri": "https://localhost:8080/"
        },
        "id": "F-NT1_HGXWLB",
        "outputId": "8e19bc24-8e0a-45c8-925a-6a3044906d1c"
      },
      "execution_count": null,
      "outputs": [
        {
          "output_type": "stream",
          "name": "stdout",
          "text": [
            "500\n"
          ]
        }
      ]
    },
    {
      "cell_type": "markdown",
      "metadata": {
        "id": "gQQyAp5L05M3"
      },
      "source": [
        "There is another sequence data type : tuple"
      ]
    },
    {
      "cell_type": "code",
      "execution_count": null,
      "metadata": {
        "id": "9XgW5A-f1G8C"
      },
      "outputs": [],
      "source": [
        "t= 12345,'Ram'"
      ]
    },
    {
      "cell_type": "markdown",
      "metadata": {
        "id": "lRPjxCD51_jF"
      },
      "source": [
        "# Tuples may be nested:"
      ]
    }
  ],
  "metadata": {
    "colab": {
      "collapsed_sections": [],
      "name": "Python_basics_2.ipynb",
      "provenance": [],
      "authorship_tag": "ABX9TyMtJZ7w3lrmmfMzgtNinKzJ",
      "include_colab_link": true
    },
    "kernelspec": {
      "display_name": "Python 3",
      "name": "python3"
    },
    "language_info": {
      "name": "python"
    }
  },
  "nbformat": 4,
  "nbformat_minor": 0
}