{
  "nbformat": 4,
  "nbformat_minor": 0,
  "metadata": {
    "colab": {
      "name": "Python_basics_4.ipynb",
      "provenance": [],
      "collapsed_sections": [],
      "authorship_tag": "ABX9TyO8k0CXWQGpD9Qjrf4W0c9N",
      "include_colab_link": true
    },
    "kernelspec": {
      "name": "python3",
      "display_name": "Python 3"
    },
    "language_info": {
      "name": "python"
    }
  },
  "cells": [
    {
      "cell_type": "markdown",
      "metadata": {
        "id": "view-in-github",
        "colab_type": "text"
      },
      "source": [
        "<a href=\"https://colab.research.google.com/github/Manish142/Python_basics/blob/Edits/Python_basics_4.ipynb\" target=\"_parent\"><img src=\"https://colab.research.google.com/assets/colab-badge.svg\" alt=\"Open In Colab\"/></a>"
      ]
    },
    {
      "cell_type": "markdown",
      "source": [
        "# Numpy "
      ],
      "metadata": {
        "id": "2K2yUoGQkFNz"
      }
    },
    {
      "cell_type": "markdown",
      "source": [
        "This file illustrates the key concepts involved in the learning of Numpy library."
      ],
      "metadata": {
        "id": "NhZSrjJST2y5"
      }
    },
    {
      "cell_type": "markdown",
      "source": [
        "## Basics of Numpy"
      ],
      "metadata": {
        "id": "7hEQ_AZErIvV"
      }
    },
    {
      "cell_type": "markdown",
      "source": [
        "Importing the numpy library:"
      ],
      "metadata": {
        "id": "xoVOsrtgiJwd"
      }
    },
    {
      "cell_type": "code",
      "execution_count": 3,
      "metadata": {
        "id": "mL2NMCyRibhY"
      },
      "outputs": [],
      "source": [
        "import numpy as np"
      ]
    },
    {
      "cell_type": "markdown",
      "source": [
        "The shape, dimension and data type of the numpy array is obtained as follows:"
      ],
      "metadata": {
        "id": "MWkRtqXhkdmT"
      }
    },
    {
      "cell_type": "code",
      "source": [
        "a = np.arange(12).reshape(3,4,1)\n",
        "a_shape = a.shape                  # Shape of the numpy array a \n",
        "a_dim = a.ndim                     # Dimension of the numpy array a \n",
        "a_data_type = a.dtype.name         # Data type of the variable a\n",
        "\n",
        "print('The shape of the ndarry a is',a_shape)\n",
        "print('The dimension of the ndarry a is', a_dim)\n",
        "print('The data type of the array a is', a_data_type)"
      ],
      "metadata": {
        "id": "yBXugaUwkdXG"
      },
      "execution_count": null,
      "outputs": []
    },
    {
      "cell_type": "markdown",
      "source": [
        "## Creating Numpy Array\n"
      ],
      "metadata": {
        "id": "Up26RoHIpIwH"
      }
    },
    {
      "cell_type": "markdown",
      "source": [
        "Python Sequence to numpy array"
      ],
      "metadata": {
        "id": "LDMv73fPpP4K"
      }
    },
    {
      "cell_type": "code",
      "source": [
        "a1D = np.array([1, 2, 3, 4])"
      ],
      "metadata": {
        "id": "rzleq7YjpIWX"
      },
      "execution_count": null,
      "outputs": []
    },
    {
      "cell_type": "markdown",
      "source": [
        "Creating numpy using functions"
      ],
      "metadata": {
        "id": "uLZ4eWaijdvJ"
      }
    },
    {
      "cell_type": "code",
      "source": [
        "# NumPy array creation functions\n",
        "r = np.arange(10)\n",
        "r_1 = np.linspace(1., 4., 6)"
      ],
      "metadata": {
        "id": "WpdBri5hpuqv"
      },
      "execution_count": null,
      "outputs": []
    },
    {
      "cell_type": "markdown",
      "source": [
        "Creating the numpy array with constant interval."
      ],
      "metadata": {
        "id": "Z0tfFDsSTSdc"
      }
    },
    {
      "cell_type": "code",
      "source": [
        "list_1 = list(range(10))\n",
        "list_2 = list(range(3,10,2))\n",
        "list_3 = list(range(3,10,1))\n",
        "\n",
        "list_array_1 = np.arange(3,10,2)\n",
        "list_array_2 = np.arange(3,10,0.01)\n",
        "list_array_3 = np.arange(0.3,10,0.2)\n",
        "\n",
        "# Number of points using linespace\n",
        "list_array_4= np.linspace(0, 1, 1000)\n",
        "\n",
        "print(list_array_1)\n"
      ],
      "metadata": {
        "id": "oc1iN6-7pwyv"
      },
      "execution_count": null,
      "outputs": []
    },
    {
      "cell_type": "markdown",
      "source": [
        "The following lines of the code illustrate the way of performing the arthimatic operation on each element of the list."
      ],
      "metadata": {
        "id": "yINHrmkSjt8E"
      }
    },
    {
      "cell_type": "code",
      "source": [
        "marks = [40, 35, 26, 25, 54]  # Write the marks of the class\n",
        "\n",
        "#new_list2 = marks+10\n",
        "new_list1 = []   # Creating the the empty list of marks\n",
        "for a in marks:\n",
        "    new_list1.append(a*2)   #new_list1 = marks*2\n",
        "\n",
        "new_list2 = []\n",
        "for a in marks:\n",
        "    new_list2.append(a+10)   #new_list2 = marks+10"
      ],
      "metadata": {
        "id": "pEIFFBBICGb5"
      },
      "execution_count": null,
      "outputs": []
    },
    {
      "cell_type": "markdown",
      "source": [
        "The numpy library makes it easy to implement the arthimatic operations on every element of the sequence. And this is illustrated by following lines of the code:"
      ],
      "metadata": {
        "id": "DdyaqjHapJfx"
      }
    },
    {
      "cell_type": "code",
      "source": [
        "marks_np = np.array(marks)  # Check the data type\n",
        "type(marks_np)\n",
        "\n",
        "new_list1 = marks_np*2\n",
        "new_list2 = marks_np+10\n",
        "new_list3 = marks_np*2+10"
      ],
      "metadata": {
        "id": "7nXuFDf9C1Uk"
      },
      "execution_count": null,
      "outputs": []
    },
    {
      "cell_type": "markdown",
      "source": [
        "## Indexing and slicing"
      ],
      "metadata": {
        "id": "yHmh8qNVr8Zk"
      }
    },
    {
      "cell_type": "markdown",
      "source": [
        "Indexing and slicing is also possible using ndarray, and it is quite similar to the list data type."
      ],
      "metadata": {
        "id": "WcD6JwO-ppvC"
      }
    },
    {
      "cell_type": "code",
      "source": [
        "marks_1= marks_np[1] # Marks of first student \n",
        "print(marks_1)\n",
        "\n",
        "# Marks of the students from 2 to 10\n",
        "marks_2= marks[2:4]\n",
        "\n",
        "array_a = np.array([1,2,3,4,5])\n",
        "array_b = np.array([8,9,10,11,12]) \n",
        "\n",
        "array_sum=array_a+array_b # Adding corresponding elements of an array\n",
        "array_multiply = array_a*array_b\n",
        "\n",
        "array_a.dtype # Find the data type of elements\n",
        "array_b.dtype "
      ],
      "metadata": {
        "id": "75GF7buPHa5x"
      },
      "execution_count": null,
      "outputs": []
    },
    {
      "cell_type": "code",
      "source": [
        "numbers = np.array([[1, 2, 3, 4], [5, 6, 7, 8], [9, 10, 11, 12]])\n",
        "numbers[1,2]  # indexing \n",
        "q=numbers[0:2,3] # indexing and slicing"
      ],
      "metadata": {
        "id": "0nfFD2rUHvbC"
      },
      "execution_count": null,
      "outputs": []
    },
    {
      "cell_type": "code",
      "source": [
        "numbers.shape\n",
        "numbers.ndim\n",
        "array_a.ndim"
      ],
      "metadata": {
        "id": "hCK2Ng1ZIB6n"
      },
      "execution_count": null,
      "outputs": []
    },
    {
      "cell_type": "code",
      "source": [
        "# Changing the data type from int to float\n",
        "array_a= array_a.astype('float')\n",
        "array_b = array_b.astype('float')\n",
        "array_a.shape"
      ],
      "metadata": {
        "id": "0Kwjd14ZIOHq"
      },
      "execution_count": null,
      "outputs": []
    },
    {
      "cell_type": "markdown",
      "source": [
        "## Numpy operations using OOP"
      ],
      "metadata": {
        "id": "3pmGg2ucsLid"
      }
    },
    {
      "cell_type": "code",
      "source": [
        "numbers = np.array([[6, 10, 14, 18], [10, 7, 14, 11], [15, 12, 6, 14]])\n",
        "\n",
        "# Methods using OOP\n",
        "numbers.max()    # method of OOP\n",
        "numbers.max(0)   # Max. along coloumn\n",
        "\n",
        "numbers.max(1)   # Max. along row\n",
        "numbers.mean()  # Calculating the mean \n",
        "\n",
        "numbers.std()   # Standard deviation\n",
        "r=np.histogram(numbers)\n",
        "\n",
        "numbers.min()\n",
        "numbers.min(0)  \n",
        "numbers.min(1)  \n",
        "numbers.sum(0)"
      ],
      "metadata": {
        "id": "fLIwLqPRIZOP"
      },
      "execution_count": null,
      "outputs": []
    },
    {
      "cell_type": "markdown",
      "source": [
        "## Numpy operations without using OOP"
      ],
      "metadata": {
        "id": "gmsQiv5dsXpG"
      }
    },
    {
      "cell_type": "code",
      "source": [
        "np.max(numbers, axis=0) # Along column\n",
        "np.max(numbers, axis=1)  # Max. value along row"
      ],
      "metadata": {
        "id": "3yCBPdkfIntr"
      },
      "execution_count": null,
      "outputs": []
    },
    {
      "cell_type": "code",
      "source": [
        "# numpy with boolean \n",
        "a= [1,2,3,4,5]\n",
        "a>4\n",
        "\n",
        "import numpy as np\n",
        "b= np.array(a)\n",
        "b > 4\n",
        "\n",
        "num = [1,4,8,7,9]\n",
        "num > 3\n",
        "\n",
        "num1= np.array(num)\n",
        "num1 > 3\n"
      ],
      "metadata": {
        "id": "mp_xny7OIs7p"
      },
      "execution_count": null,
      "outputs": []
    },
    {
      "cell_type": "markdown",
      "source": [
        "Using math library"
      ],
      "metadata": {
        "id": "NG9lc8U2Iwwa"
      }
    },
    {
      "cell_type": "code",
      "source": [
        "import math\n",
        "x= [1,2,4,5]\n",
        "a= 0.1\n",
        "\n",
        "y= math.sin(x-a)/x"
      ],
      "metadata": {
        "id": "sWsLqQ-RI5st"
      },
      "execution_count": null,
      "outputs": []
    },
    {
      "cell_type": "code",
      "source": [
        "import numpy as np\n",
        "a = 5\n",
        "x = np.linspace(1, 10, 1000)\n",
        "y = np.sin(x-a)/x\n",
        "id(y)\n",
        "x=y\n",
        "id(x)\n",
        "# id provides a reference to the memory location where the object is stored"
      ],
      "metadata": {
        "id": "6JktrkZ2TBpu"
      },
      "execution_count": null,
      "outputs": []
    },
    {
      "cell_type": "markdown",
      "source": [
        "Id provides a reference to the memory location where the object is stored"
      ],
      "metadata": {
        "id": "dP0VPV4AS7wI"
      }
    },
    {
      "cell_type": "markdown",
      "source": [
        "NumPy views and copies"
      ],
      "metadata": {
        "id": "-slS5-d8SXB0"
      }
    },
    {
      "cell_type": "code",
      "source": [
        "# NumPy views and copies\n",
        "# Copy of the ndarray\n",
        "numbers = np.array([[6, 10, 14, 18], [10, 7, 14, 11], [15, 12, 6, 14]])\n",
        "numbers_view = numbers[2:]\n",
        "numbers_copy= numbers.copy()"
      ],
      "metadata": {
        "id": "3Lenig9SSA27"
      },
      "execution_count": null,
      "outputs": []
    },
    {
      "cell_type": "markdown",
      "source": [
        "Plotting with the numpy array using matplotlib."
      ],
      "metadata": {
        "id": "iNnbYmNfRtKs"
      }
    },
    {
      "cell_type": "code",
      "source": [
        "import numpy as np\n",
        "import matplotlib.pyplot as plt\n",
        "a = 25\n",
        "\n",
        "x = np.linspace(1, 10, 10000)\n",
        "y = np.sin(x-a)/x\n",
        "plt.plot(x, y)\n",
        "plt.show()\n",
        "\n",
        "y = np.cos(x-a)/x\n",
        "plt.plot(x, y)\n",
        "plt.show()\n",
        "\n",
        "y = np.exp(x-a)/x\n",
        "plt.plot(x, y)\n",
        "plt.show()"
      ],
      "metadata": {
        "id": "hDZNY1XXQ2ZQ"
      },
      "execution_count": null,
      "outputs": []
    },
    {
      "cell_type": "markdown",
      "source": [
        "##Loading the numpy array from csv file."
      ],
      "metadata": {
        "id": "m7FqxdXhsvgP"
      }
    },
    {
      "cell_type": "markdown",
      "source": [
        "Loading the text data from csv file in ndarray."
      ],
      "metadata": {
        "id": "lWrWBs-NQN8S"
      }
    },
    {
      "cell_type": "code",
      "source": [
        "import numpy as np\n",
        "data = np.loadtxt(\"mean_daily_temperatures_from_1772.csv\", delimiter=\",\", dtype=int)\n",
        "print(data)\n",
        "data[0,13]\n",
        "data[0,:]\n",
        "data[:,0]\n",
        "column_2= data[:,1]\n",
        "print(column_2)"
      ],
      "metadata": {
        "id": "XaaX8mEgJjv-"
      },
      "execution_count": null,
      "outputs": []
    }
  ]
}