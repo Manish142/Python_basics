{
  "nbformat": 4,
  "nbformat_minor": 0,
  "metadata": {
    "colab": {
      "name": "Python_basics_4.ipynb",
      "provenance": [],
      "collapsed_sections": [],
      "authorship_tag": "ABX9TyP7MPjBPFW8an+xEFbS2H8c",
      "include_colab_link": true
    },
    "kernelspec": {
      "name": "python3",
      "display_name": "Python 3"
    },
    "language_info": {
      "name": "python"
    }
  },
  "cells": [
    {
      "cell_type": "markdown",
      "metadata": {
        "id": "view-in-github",
        "colab_type": "text"
      },
      "source": [
        "<a href=\"https://colab.research.google.com/github/Manish142/Python_basics/blob/Edits/Python_basics_4.ipynb\" target=\"_parent\"><img src=\"https://colab.research.google.com/assets/colab-badge.svg\" alt=\"Open In Colab\"/></a>"
      ]
    },
    {
      "cell_type": "markdown",
      "source": [
        "# Numpy "
      ],
      "metadata": {
        "id": "2K2yUoGQkFNz"
      }
    },
    {
      "cell_type": "code",
      "execution_count": 1,
      "metadata": {
        "id": "mL2NMCyRibhY"
      },
      "outputs": [],
      "source": [
        "import numpy as np"
      ]
    },
    {
      "cell_type": "code",
      "source": [
        "a = np.arange(12).reshape(3, 4,1)"
      ],
      "metadata": {
        "id": "sWRXxWFkkY3p"
      },
      "execution_count": 2,
      "outputs": []
    },
    {
      "cell_type": "markdown",
      "source": [
        "Shape of numpy array:"
      ],
      "metadata": {
        "id": "MWkRtqXhkdmT"
      }
    },
    {
      "cell_type": "code",
      "source": [
        "Shape = a.shape"
      ],
      "metadata": {
        "id": "yBXugaUwkdXG"
      },
      "execution_count": 3,
      "outputs": []
    },
    {
      "cell_type": "code",
      "source": [
        "Dim = a.ndim"
      ],
      "metadata": {
        "id": "Bwi4pRHZk0Ub"
      },
      "execution_count": 5,
      "outputs": []
    },
    {
      "cell_type": "code",
      "source": [
        "Data_type = a.dtype.name"
      ],
      "metadata": {
        "id": "wVnBuBOSpj9i"
      },
      "execution_count": 7,
      "outputs": []
    },
    {
      "cell_type": "markdown",
      "source": [
        "**Creating Array**\n"
      ],
      "metadata": {
        "id": "Up26RoHIpIwH"
      }
    },
    {
      "cell_type": "markdown",
      "source": [
        "Python Sequence to numpy array"
      ],
      "metadata": {
        "id": "LDMv73fPpP4K"
      }
    },
    {
      "cell_type": "code",
      "source": [
        "a1D = np.array([1, 2, 3, 4])"
      ],
      "metadata": {
        "id": "rzleq7YjpIWX"
      },
      "execution_count": 6,
      "outputs": []
    },
    {
      "cell_type": "code",
      "source": [
        "# NumPy array creation functions\n",
        "r = np.arange(10)\n",
        "r_1 = np.linspace(1., 4., 6)"
      ],
      "metadata": {
        "id": "WpdBri5hpuqv"
      },
      "execution_count": 10,
      "outputs": []
    },
    {
      "cell_type": "code",
      "source": [
        "# Replacing and joining the array\n",
        "#q= np.block([[A, B], [C, D]])\n",
        "\n",
        "# Write the marks of the class\n",
        "# Double\n",
        "marks = [40, 35, 26, 25, 54]\n",
        "\n",
        "#new_list1 = marks*2\n",
        "#new_list2 = marks+10\n",
        "new_list1 = []\n",
        "\n",
        "for a in marks:\n",
        "    new_list1.append(a*2)\n",
        "\n",
        "new_list2 = []\n",
        "\n",
        "for a in marks:\n",
        "    new_list2.append(a+10)"
      ],
      "metadata": {
        "id": "pEIFFBBICGb5"
      },
      "execution_count": null,
      "outputs": []
    },
    {
      "cell_type": "code",
      "source": [
        "marks_np = np.array(marks)  # Check the data type\n",
        "type(marks_np)\n",
        "\n",
        "new_list1 = marks_np*2\n",
        "new_list2 = marks_np+10\n",
        "new_list3 = marks_np*2+10"
      ],
      "metadata": {
        "id": "7nXuFDf9C1Uk"
      },
      "execution_count": null,
      "outputs": []
    },
    {
      "cell_type": "code",
      "source": [
        "# Indexing and slicing is also possible using ndarray\n",
        "\n",
        "marks_1= marks_np[1] # Marks of first student \n",
        "print(marks_1)\n",
        "\n",
        "# Slicing is also possible\n",
        "# Marks of the students from 2 to 10\n",
        "marks_2= marks[2:4]\n",
        "\n",
        "array_a = np.array([1,2,3,4,5])\n",
        "array_b = np.array([8,9,10,11,12]) \n",
        "\n",
        "array_sum=array_a+array_b # Adding corresponding elements of an array\n",
        "array_multiply = array_a*array_b\n",
        "\n",
        "array_a.dtype # Find the data type of elements\n",
        "array_b.dtype "
      ],
      "metadata": {
        "id": "75GF7buPHa5x"
      },
      "execution_count": null,
      "outputs": []
    },
    {
      "cell_type": "code",
      "source": [
        "numbers = np.array([[1, 2, 3, 4], [5, 6, 7, 8], [9, 10, 11, 12]])\n",
        "numbers[1,2]  # indexing \n",
        "q=numbers[0:2,3] # indexing and slicing"
      ],
      "metadata": {
        "id": "0nfFD2rUHvbC"
      },
      "execution_count": null,
      "outputs": []
    },
    {
      "cell_type": "code",
      "source": [
        "numbers.shape\n",
        "numbers.ndim\n",
        "array_a.ndim"
      ],
      "metadata": {
        "id": "hCK2Ng1ZIB6n"
      },
      "execution_count": null,
      "outputs": []
    },
    {
      "cell_type": "code",
      "source": [
        "# Changing the data type from int to float\n",
        "array_a= array_a.astype('float')\n",
        "array_b = array_b.astype('float')\n",
        "array_a.shape"
      ],
      "metadata": {
        "id": "0Kwjd14ZIOHq"
      },
      "execution_count": null,
      "outputs": []
    },
    {
      "cell_type": "code",
      "source": [
        "numbers = np.array([[6, 10, 14, 18], [10, 7, 14, 11], [15, 12, 6, 14]])\n",
        "\n",
        "# Methods using OOP\n",
        "numbers.max()    # method of OOP\n",
        "numbers.max(0)   # Max. along coloumn\n",
        "\n",
        "numbers.max(1)   # Max. along row\n",
        "numbers.mean()  # Calculating the mean \n",
        "\n",
        "numbers.std()   # Standard deviation\n",
        "r=np.histogram(numbers)\n",
        "\n",
        "numbers.min()\n",
        "numbers.min(0)  \n",
        "numbers.min(1)  \n",
        "numbers.sum(0)"
      ],
      "metadata": {
        "id": "fLIwLqPRIZOP"
      },
      "execution_count": null,
      "outputs": []
    },
    {
      "cell_type": "code",
      "source": [
        "# Without using OOP\n",
        "\n",
        "np.max(numbers, axis=0) # Along column\n",
        "np.max(numbers, axis=1)  # Max. value along row"
      ],
      "metadata": {
        "id": "3yCBPdkfIntr"
      },
      "execution_count": null,
      "outputs": []
    },
    {
      "cell_type": "code",
      "source": [
        "# numpy with boolean \n",
        "a= [1,2,3,4,5]\n",
        "a>4\n",
        "\n",
        "\n",
        "import numpy as np\n",
        "b= np.array(a)\n",
        "b > 4\n",
        "\n",
        "num = [1,4,8,7,9]\n",
        "num > 3\n",
        "\n",
        "num1= np.array(num)\n",
        "num1 > 3\n"
      ],
      "metadata": {
        "id": "mp_xny7OIs7p"
      },
      "execution_count": null,
      "outputs": []
    },
    {
      "cell_type": "markdown",
      "source": [
        "Using math library"
      ],
      "metadata": {
        "id": "NG9lc8U2Iwwa"
      }
    },
    {
      "cell_type": "code",
      "source": [
        "import math\n",
        "x= [1,2,4,5]\n",
        "a= 0.1\n",
        "\n",
        "y= math.sin(x-a)/x"
      ],
      "metadata": {
        "id": "sWsLqQ-RI5st"
      },
      "execution_count": null,
      "outputs": []
    },
    {
      "cell_type": "markdown",
      "source": [
        "Creating the numpy array with constant interval."
      ],
      "metadata": {
        "id": "Z0tfFDsSTSdc"
      }
    },
    {
      "cell_type": "code",
      "source": [
        "list_1 = list(range(10))\n",
        "list_2 = list(range(3,10,2))\n",
        "list_3 = list(range(3,10,1))\n",
        "\n",
        "list_array_1 = np.arange(3,10,2)\n",
        "list_array_2 = np.arange(3,10,0.01)\n",
        "list_array_3 = np.arange(0.3,10,0.2)\n",
        "\n",
        "# Number of points using linespace\n",
        "list_array_4= np.linspace(0, 1, 1000)\n",
        "\n",
        "print(list_array_1)\n"
      ],
      "metadata": {
        "colab": {
          "base_uri": "https://localhost:8080/"
        },
        "id": "oc1iN6-7pwyv",
        "outputId": "0a699847-824c-43ff-c18e-d126461bfe4b"
      },
      "execution_count": 14,
      "outputs": [
        {
          "output_type": "stream",
          "name": "stdout",
          "text": [
            "[3 5 7 9]\n"
          ]
        }
      ]
    },
    {
      "cell_type": "code",
      "source": [
        "import numpy as np\n",
        "a = 5\n",
        "x = np.linspace(1, 10, 1000)\n",
        "y = np.sin(x-a)/x\n",
        "id(y)\n",
        "x=y\n",
        "id(x)\n",
        "# id provides a reference to the memory location where the object is stored"
      ],
      "metadata": {
        "colab": {
          "base_uri": "https://localhost:8080/"
        },
        "id": "6JktrkZ2TBpu",
        "outputId": "6e231e70-4408-4c46-a8ee-bd297bbc1fbd"
      },
      "execution_count": 11,
      "outputs": [
        {
          "output_type": "execute_result",
          "data": {
            "text/plain": [
              "140687794849040"
            ]
          },
          "metadata": {},
          "execution_count": 11
        }
      ]
    },
    {
      "cell_type": "markdown",
      "source": [
        "Id provides a reference to the memory location where the object is stored"
      ],
      "metadata": {
        "id": "dP0VPV4AS7wI"
      }
    },
    {
      "cell_type": "markdown",
      "source": [
        "NumPy views and copies"
      ],
      "metadata": {
        "id": "-slS5-d8SXB0"
      }
    },
    {
      "cell_type": "code",
      "source": [
        "# NumPy views and copies\n",
        "# Copy of the ndarray\n",
        "numbers = np.array([[6, 10, 14, 18], [10, 7, 14, 11], [15, 12, 6, 14]])\n",
        "numbers_view = numbers[2:]\n",
        "numbers_copy= numbers.copy()"
      ],
      "metadata": {
        "id": "3Lenig9SSA27"
      },
      "execution_count": 10,
      "outputs": []
    },
    {
      "cell_type": "markdown",
      "source": [
        "Plotting with the numpy array using matplotlib."
      ],
      "metadata": {
        "id": "iNnbYmNfRtKs"
      }
    },
    {
      "cell_type": "code",
      "source": [
        "import numpy as np\n",
        "import matplotlib.pyplot as plt\n",
        "a = 25\n",
        "\n",
        "x = np.linspace(1, 10, 10000)\n",
        "y = np.sin(x-a)/x\n",
        "plt.plot(x, y)\n",
        "plt.show()\n",
        "\n",
        "y = np.cos(x-a)/x\n",
        "plt.plot(x, y)\n",
        "plt.show()\n",
        "\n",
        "y = np.exp(x-a)/x\n",
        "plt.plot(x, y)\n",
        "plt.show()"
      ],
      "metadata": {
        "colab": {
          "base_uri": "https://localhost:8080/",
          "height": 772
        },
        "id": "hDZNY1XXQ2ZQ",
        "outputId": "32ab0068-6fb4-431b-c8a4-e0e8b0de5a98"
      },
      "execution_count": 8,
      "outputs": [
        {
          "output_type": "display_data",
          "data": {
            "text/plain": [
              "<Figure size 432x288 with 1 Axes>"
            ],
            "image/png": "[encoded data removed]"
          },
          "metadata": {
            "needs_background": "light"
          }
        },
        {
          "output_type": "display_data",
          "data": {
            "text/plain": [
              "<Figure size 432x288 with 1 Axes>"
            ],
            "image/png": "[encoded data removed]"
          },
          "metadata": {
            "needs_background": "light"
          }
        },
        {
          "output_type": "display_data",
          "data": {
            "text/plain": [
              "<Figure size 432x288 with 1 Axes>"
            ],
            "image/png": "[encoded data removed]"
          },
          "metadata": {
            "needs_background": "light"
          }
        }
      ]
    },
    {
      "cell_type": "markdown",
      "source": [
        "Loading the text data from csv file in ndarray."
      ],
      "metadata": {
        "id": "lWrWBs-NQN8S"
      }
    },
    {
      "cell_type": "code",
      "source": [
        "import numpy as np\n",
        "data = np.loadtxt(\"mean_daily_temperatures_from_1772.csv\", delimiter=\",\", dtype=int)\n",
        "print(data)\n",
        "data[0,13]\n",
        "data[0,:]\n",
        "data[:,0]\n",
        "column_2= data[:,1]\n",
        "print(column_2)"
      ],
      "metadata": {
        "colab": {
          "base_uri": "https://localhost:8080/"
        },
        "outputId": "83668284-5c74-4fce-bc0d-73d8551cb84b",
        "id": "XaaX8mEgJjv-"
      },
      "execution_count": 7,
      "outputs": [
        {
          "output_type": "stream",
          "name": "stdout",
          "text": [
            "[[1772    1   32 ...  111   78  112]\n",
            " [1772    2   20 ...  150   85   62]\n",
            " [1772    3   27 ...  124   83   60]\n",
            " ...\n",
            " [2021   29   79 ... -999 -999 -999]\n",
            " [2021   30   29 ... -999 -999 -999]\n",
            " [2021   31    8 ... -999 -999 -999]]\n",
            "[ 1  2  3 ... 29 30 31]\n"
          ]
        }
      ]
    }
  ]
}