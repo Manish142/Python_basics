{
  "nbformat": 4,
  "nbformat_minor": 0,
  "metadata": {
    "colab": {
      "name": "Python_basics_4.ipynb",
      "provenance": [],
      "authorship_tag": "ABX9TyNDto41rP0mNZPj+wwLSKR9",
      "include_colab_link": true
    },
    "kernelspec": {
      "name": "python3",
      "display_name": "Python 3"
    },
    "language_info": {
      "name": "python"
    }
  },
  "cells": [
    {
      "cell_type": "markdown",
      "metadata": {
        "id": "view-in-github",
        "colab_type": "text"
      },
      "source": [
        "<a href=\"https://colab.research.google.com/github/Manish142/Python_basics/blob/Edits/Python_basics_4.ipynb\" target=\"_parent\"><img src=\"https://colab.research.google.com/assets/colab-badge.svg\" alt=\"Open In Colab\"/></a>"
      ]
    },
    {
      "cell_type": "markdown",
      "source": [
        "# Numpy "
      ],
      "metadata": {
        "id": "2K2yUoGQkFNz"
      }
    },
    {
      "cell_type": "code",
      "execution_count": 1,
      "metadata": {
        "id": "mL2NMCyRibhY"
      },
      "outputs": [],
      "source": [
        "import numpy as np"
      ]
    },
    {
      "cell_type": "code",
      "source": [
        "a = np.arange(12).reshape(3, 4,1)"
      ],
      "metadata": {
        "id": "sWRXxWFkkY3p"
      },
      "execution_count": 2,
      "outputs": []
    },
    {
      "cell_type": "markdown",
      "source": [
        "Shape of numpy array:"
      ],
      "metadata": {
        "id": "MWkRtqXhkdmT"
      }
    },
    {
      "cell_type": "code",
      "source": [
        "Shape = a.shape"
      ],
      "metadata": {
        "id": "yBXugaUwkdXG"
      },
      "execution_count": 3,
      "outputs": []
    },
    {
      "cell_type": "code",
      "source": [
        "Dim = a.ndim"
      ],
      "metadata": {
        "id": "Bwi4pRHZk0Ub"
      },
      "execution_count": 5,
      "outputs": []
    },
    {
      "cell_type": "code",
      "source": [
        "Data_type = a.dtype.name"
      ],
      "metadata": {
        "id": "wVnBuBOSpj9i"
      },
      "execution_count": 7,
      "outputs": []
    },
    {
      "cell_type": "markdown",
      "source": [
        "**Creating Array**\n"
      ],
      "metadata": {
        "id": "Up26RoHIpIwH"
      }
    },
    {
      "cell_type": "markdown",
      "source": [
        "Python Sequence to numpy array"
      ],
      "metadata": {
        "id": "LDMv73fPpP4K"
      }
    },
    {
      "cell_type": "code",
      "source": [
        "a1D = np.array([1, 2, 3, 4])"
      ],
      "metadata": {
        "id": "rzleq7YjpIWX"
      },
      "execution_count": 6,
      "outputs": []
    },
    {
      "cell_type": "code",
      "source": [
        "# NumPy array creation functions\n",
        "r = np.arange(10)\n",
        "r_1 = np.linspace(1., 4., 6)"
      ],
      "metadata": {
        "id": "WpdBri5hpuqv"
      },
      "execution_count": 10,
      "outputs": []
    },
    {
      "cell_type": "code",
      "source": [
        "# Replacing and joining the array\n",
        "#q= np.block([[A, B], [C, D]])\n",
        "\n",
        "\n",
        "# Write the marks of the class\n",
        "# Double\n",
        "marks = [40, 35, 26, 25, 54]\n",
        "\n",
        "#new_list1 = marks*2\n",
        "\n",
        "#new_list2 = marks+10\n",
        "\n",
        "\n",
        "new_list1 = []\n",
        "\n",
        "for a in marks:\n",
        "    new_list1.append(a*2)\n",
        "\n",
        "new_list2 = []\n",
        "\n",
        "for a in marks:\n",
        "    new_list2.append(a+10)\n",
        "\n",
        "marks = [40, 35, 26, 25, 54]\n",
        "\n",
        "\n",
        "marks_np = np.array(marks)  # Check the data type\n",
        "type(marks_np)\n",
        "\n",
        "\n",
        "new_list1 = marks_np*2\n",
        "new_list2 = marks_np+10\n",
        "\n",
        "new_list3 = marks_np*2+10\n",
        "\n",
        "\n",
        "# Indexing and slicing is also possible using ndarray\n",
        "\n",
        "marks_1= marks_np[1] # Marks of first student \n",
        "print(marks_1)\n",
        "\n",
        "# Slicing is also possible\n",
        "\n",
        "# Marks of the students from 2 to 10\n",
        "marks_2= marks[2:4]\n",
        "\n",
        "array_a = np.array([1,2,3,4,5])\n",
        "\n",
        "array_b = np.array([8,9,10,11,12]) \n",
        "\n",
        "array_sum=array_a+array_b # Adding corresponding elements of an array\n",
        "\n",
        "array_multiply = array_a*array_b\n",
        "\n",
        "array_a.dtype # Find the data type of elements\n",
        "\n",
        "array_b.dtype \n",
        "\n",
        "# Changing the data type from int to float\n",
        "\n",
        "\n",
        "array_a= array_a.astype('float')\n",
        "\n",
        "\n",
        "array_b = array_b.astype('float')\n",
        "\n",
        "\n",
        "array_a.shape\n",
        "\n",
        "numbers = np.array([[1, 2, 3, 4], [5, 6, 7, 8], [9, 10, 11, 12]])\n",
        "numbers.shape\n",
        "\n",
        "numbers.ndim\n",
        "\n",
        "array_a.ndim\n",
        "\n",
        "numbers[1,2]  # indexing \n",
        "\n",
        "q=numbers[0:2,3] # indexing and slicing\n",
        "\n",
        "\n",
        "numbers = np.array([[6, 10, 14, 18], [10, 7, 14, 11], [15, 12, 6, 14]])\n",
        "\n",
        "# Methods using OOP\n",
        "numbers.max()    # method of OOP\n",
        "\n",
        "numbers.max(0)   # Max. along coloumn\n",
        "\n",
        "numbers.max(1)   # Max. along row\n",
        "\n",
        "numbers.mean()  # Calculating the mean \n",
        "\n",
        "numbers.std()   # Standard deviation\n",
        "\n",
        "r=np.histogram(numbers)\n",
        "\n",
        "numbers.min()\n",
        "\n",
        "numbers.min(0)  \n",
        "\n",
        "numbers.min(1)  \n",
        "\n",
        "numbers.sum(0)\n",
        "\n",
        "\n",
        "# Without using OOP\n",
        "\n",
        "np.max(numbers, axis=0) # Along column\n",
        "\n",
        "\n",
        "np.max(numbers, axis=1)  # Max. value along row\n",
        "\n",
        "\n",
        "\n",
        "# numpy with boolean \n",
        "\n",
        "a= [1,2,3,4,5]\n",
        "a>4\n",
        "\n",
        "\n",
        "import numpy as np\n",
        "b= np.array(a)\n",
        "b > 4\n",
        "\n",
        "\n",
        "\n",
        "num = [1,4,8,7,9]\n",
        "num > 3\n",
        "\n",
        "num1= np.array(num)\n",
        "num1 > 3\n",
        "\n",
        "\n",
        "# y = sin(x-a)/x\n",
        "\n",
        "import math\n",
        "x= [1,2,4,5]\n",
        "a= 0.1\n",
        "\n",
        "y= math.sin(x-a)/x\n",
        "\n",
        "\n",
        "list_1 = list(range(10))\n",
        "\n",
        "list_2 = list(range(3,10,2))\n",
        "\n",
        "list_3 = list(range(3,10,0.5))\n",
        "\n",
        "\n",
        "\n",
        "list_array_1 = np.arange(3,10,2)\n",
        "\n",
        "\n",
        "list_array_2 = np.arange(3,10,0.01)\n",
        "\n",
        "\n",
        "list_array_3 = np.arange(0.3,10,0.2)\n",
        "\n",
        "# Number of points using linespace\n",
        "list_array_4= np.linspace(0, 1, 1000)\n",
        "\n",
        "import numpy as np\n",
        "a = 5\n",
        "x = np.linspace(1, 10, 1000)\n",
        "\n",
        "y = np.sin(x-a)/x\n",
        "\n",
        "\n",
        "id(y)\n",
        "\n",
        "x=y\n",
        "\n",
        "id(x)\n",
        "# id provides a reference to the memory location where the object is stored\n",
        "\n",
        "# NumPy views and copies\n",
        "# Copy of the ndarray\n",
        "\n",
        "numbers_view = numbers[2:]\n",
        "numbers_copy= numbers.copy()\n",
        "\n",
        "\n",
        "\n",
        "import numpy as np\n",
        "import matplotlib.pyplot as plt\n",
        "a = 25\n",
        "x = np.linspace(1, 10, 10000)\n",
        "y = np.sin(x-a)/x\n",
        "plt.plot(x, y)\n",
        "plt.show()\n",
        "\n",
        "\n",
        "\n",
        "y = np.cos(x-a)/x\n",
        "plt.plot(x, y)\n",
        "plt.show()\n",
        "\n",
        "\n",
        "y = np.exp(x-a)/x\n",
        "plt.plot(x, y)\n",
        "plt.show()\n",
        "\n",
        "\n",
        "data = np.loadtxt(\"mean_daily_temperatures_from_1772.csv\", delimiter=\",\", dtype=int)\n",
        "\n",
        "\n",
        "data[0,13]\n",
        "\n",
        "data[0,:]\n",
        "data[:,0]\n",
        "\n",
        "\n",
        "column_2= data[:,1]\n"
      ],
      "metadata": {
        "colab": {
          "base_uri": "https://localhost:8080/",
          "height": 287
        },
        "id": "oc1iN6-7pwyv",
        "outputId": "cb6bba0a-d14e-41f7-a457-fd485a4e628c"
      },
      "execution_count": 12,
      "outputs": [
        {
          "output_type": "stream",
          "name": "stdout",
          "text": [
            "35\n"
          ]
        },
        {
          "output_type": "error",
          "ename": "TypeError",
          "evalue": "ignored",
          "traceback": [
            "\u001b[0;31m---------------------------------------------------------------------------\u001b[0m",
            "\u001b[0;31mTypeError\u001b[0m                                 Traceback (most recent call last)",
            "\u001b[0;32m<ipython-input-12-39aff5879341>\u001b[0m in \u001b[0;36m<module>\u001b[0;34m()\u001b[0m\n\u001b[1;32m    116\u001b[0m \u001b[0;34m\u001b[0m\u001b[0m\n\u001b[1;32m    117\u001b[0m \u001b[0ma\u001b[0m\u001b[0;34m=\u001b[0m \u001b[0;34m[\u001b[0m\u001b[0;36m1\u001b[0m\u001b[0;34m,\u001b[0m\u001b[0;36m2\u001b[0m\u001b[0;34m,\u001b[0m\u001b[0;36m3\u001b[0m\u001b[0;34m,\u001b[0m\u001b[0;36m4\u001b[0m\u001b[0;34m,\u001b[0m\u001b[0;36m5\u001b[0m\u001b[0;34m]\u001b[0m\u001b[0;34m\u001b[0m\u001b[0;34m\u001b[0m\u001b[0m\n\u001b[0;32m--> 118\u001b[0;31m \u001b[0ma\u001b[0m\u001b[0;34m>\u001b[0m\u001b[0;36m4\u001b[0m\u001b[0;34m\u001b[0m\u001b[0;34m\u001b[0m\u001b[0m\n\u001b[0m\u001b[1;32m    119\u001b[0m \u001b[0;34m\u001b[0m\u001b[0m\n\u001b[1;32m    120\u001b[0m \u001b[0;34m\u001b[0m\u001b[0m\n",
            "\u001b[0;31mTypeError\u001b[0m: '>' not supported between instances of 'list' and 'int'"
          ]
        }
      ]
    }
  ]
}